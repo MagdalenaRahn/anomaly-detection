{
 "cells": [
  {
   "cell_type": "code",
   "execution_count": 1,
   "id": "722bda3a",
   "metadata": {},
   "outputs": [],
   "source": [
    "def remove_outliers(df, k=2):\n",
    "    '''\n",
    "    This function is to remove the top 25% and bottom 25% of the data for each column.\n",
    "    This removes the top and bottom 50% for every column to ensure all outliers are gone.\n",
    "    '''\n",
    "    a=[]\n",
    "    b=[]\n",
    "    fences=[a, b]\n",
    "    features= []\n",
    "    col_list = []\n",
    "    i=0\n",
    "    for col in df:\n",
    "            new_df=np.where(df[col].nunique()>8, True, False)\n",
    "            if new_df==True:\n",
    "                if df[col].dtype == 'float' or df[col].dtype == 'int':\n",
    "                    '''\n",
    "                    for each feature find the first and third quartile\n",
    "                    '''\n",
    "                    q1, q3 = df[col].quantile([.25, .75])\n",
    "                    '''\n",
    "                    calculate inter quartile range\n",
    "                    '''\n",
    "                    iqr = q3 - q1\n",
    "                    '''\n",
    "                    calculate the upper and lower fence\n",
    "                    '''\n",
    "                    upper_fence = q3 + (k * iqr)\n",
    "                    lower_fence = q1 - (k * iqr)\n",
    "                    '''\n",
    "                    appending the upper and lower fences to lists\n",
    "                    '''\n",
    "                    a.append(upper_fence)\n",
    "                    b.append(lower_fence)\n",
    "                    '''\n",
    "                    appending the feature names to a list\n",
    "                    '''\n",
    "                    features.append(col)\n",
    "                    '''\n",
    "                    assigning the fences and feature names to a dataframe\n",
    "                    '''\n",
    "                    var_fences= pd.DataFrame(fences, columns=features, index=['upper_fence', 'lower_fence'])\n",
    "                    col_list.append(col)\n",
    "                else:\n",
    "                    print(col)\n",
    "                    print('column is not a float or int')\n",
    "            else:\n",
    "                print(f'{col} column ignored')\n",
    "    '''\n",
    "    for loop used to remove the data deemed unecessary\n",
    "    '''\n",
    "    for col in col_list:\n",
    "        df = df[(df[col]<= a[i]) & (df[col]>= b[i])]\n",
    "        i+=1\n",
    "    return df, var_fences\n",
    "\n"
   ]
  },
  {
   "cell_type": "code",
   "execution_count": 2,
   "id": "401ed422",
   "metadata": {},
   "outputs": [],
   "source": [
    "# imports\n",
    "\n",
    "import numpy as np\n",
    "import pandas as pd\n",
    "import seaborn as sns\n",
    "import itertools\n",
    "from pydataset import data\n",
    "\n",
    "from env import get_connection\n",
    "import prepare as p\n",
    "\n",
    "import matplotlib.pyplot as plt\n",
    "%matplotlib inline"
   ]
  },
  {
   "cell_type": "markdown",
   "id": "ce9c5b06",
   "metadata": {},
   "source": [
    "# Continuous Probability Exercises\n",
    "\n",
    "\n",
    "\n",
    "2. Using lemonade.csv dataset and focusing on continuous variables:\n",
    "        Use the IQR Range Rule and the upper and lower bounds to identify the lower outliers of each column of lemonade.csv, using the multiplier of 1.5. Do these lower outliers make sense? Which outliers should be kept?\n",
    "        Use the IQR Range Rule and the upper and upper bounds to identify the upper outliers of each column of lemonade.csv, using the multiplier of 1.5. Do these upper outliers make sense? Which outliers should be kept?\n",
    "        Using the multiplier of 3, IQR Range Rule, and the lower bounds, identify the outliers below the lower bound in each colum of lemonade.csv. Do these lower outliers make sense? Which outliers should be kept?\n",
    "        Using the multiplier of 3, IQR Range Rule, and the upper bounds, identify the outliers above the upper_bound in each colum of lemonade.csv. Do these upper outliers make sense? Which outliers should be kept?\n",
    "\n",
    "    Identify if any columns in lemonade.csv are normally distributed. For normally distributed columns:\n",
    "\n",
    "        Use a 2-sigma decision rule to isolate the outliers.\n",
    "            Do these make sense?\n",
    "            Should certain outliers be kept or removed?\n",
    "\n",
    "    Now use a 3-sigma decision rule to isolate the outliers in the normally distributed columns from lemonade.csv\n"
   ]
  },
  {
   "cell_type": "code",
   "execution_count": 3,
   "id": "12279719",
   "metadata": {},
   "outputs": [],
   "source": [
    "# obtaining .csv\n",
    "\n",
    "url = ('https://gist.githubusercontent.com/ryanorsinger/19bc7eccd6279661bd13307026628ace/raw/e4b5d6787015a4782f96cad6d1d62a8bdbac54c7/lemonade.csv')\n",
    "    \n",
    "lem = pd.read_csv(url)"
   ]
  },
  {
   "cell_type": "code",
   "execution_count": 4,
   "id": "2cc89f00",
   "metadata": {},
   "outputs": [
    {
     "data": {
      "text/html": [
       "<div>\n",
       "<style scoped>\n",
       "    .dataframe tbody tr th:only-of-type {\n",
       "        vertical-align: middle;\n",
       "    }\n",
       "\n",
       "    .dataframe tbody tr th {\n",
       "        vertical-align: top;\n",
       "    }\n",
       "\n",
       "    .dataframe thead th {\n",
       "        text-align: right;\n",
       "    }\n",
       "</style>\n",
       "<table border=\"1\" class=\"dataframe\">\n",
       "  <thead>\n",
       "    <tr style=\"text-align: right;\">\n",
       "      <th></th>\n",
       "      <th>Date</th>\n",
       "      <th>Day</th>\n",
       "      <th>Temperature</th>\n",
       "      <th>Rainfall</th>\n",
       "      <th>Flyers</th>\n",
       "      <th>Price</th>\n",
       "      <th>Sales</th>\n",
       "    </tr>\n",
       "  </thead>\n",
       "  <tbody>\n",
       "    <tr>\n",
       "      <th>0</th>\n",
       "      <td>1/1/17</td>\n",
       "      <td>Sunday</td>\n",
       "      <td>27.0</td>\n",
       "      <td>2.00</td>\n",
       "      <td>15</td>\n",
       "      <td>0.5</td>\n",
       "      <td>10</td>\n",
       "    </tr>\n",
       "    <tr>\n",
       "      <th>1</th>\n",
       "      <td>1/2/17</td>\n",
       "      <td>Monday</td>\n",
       "      <td>28.9</td>\n",
       "      <td>1.33</td>\n",
       "      <td>15</td>\n",
       "      <td>0.5</td>\n",
       "      <td>13</td>\n",
       "    </tr>\n",
       "    <tr>\n",
       "      <th>2</th>\n",
       "      <td>1/3/17</td>\n",
       "      <td>Tuesday</td>\n",
       "      <td>34.5</td>\n",
       "      <td>1.33</td>\n",
       "      <td>27</td>\n",
       "      <td>0.5</td>\n",
       "      <td>15</td>\n",
       "    </tr>\n",
       "  </tbody>\n",
       "</table>\n",
       "</div>"
      ],
      "text/plain": [
       "     Date      Day  Temperature  Rainfall  Flyers  Price  Sales\n",
       "0  1/1/17   Sunday         27.0      2.00      15    0.5     10\n",
       "1  1/2/17   Monday         28.9      1.33      15    0.5     13\n",
       "2  1/3/17  Tuesday         34.5      1.33      27    0.5     15"
      ]
     },
     "execution_count": 4,
     "metadata": {},
     "output_type": "execute_result"
    }
   ],
   "source": [
    "# looking at .csv df\n",
    "\n",
    "lem.head(3)"
   ]
  },
  {
   "cell_type": "code",
   "execution_count": 5,
   "id": "0356a1d3",
   "metadata": {},
   "outputs": [
    {
     "name": "stdout",
     "output_type": "stream",
     "text": [
      "<class 'pandas.core.frame.DataFrame'>\n",
      "RangeIndex: 365 entries, 0 to 364\n",
      "Data columns (total 7 columns):\n",
      " #   Column       Non-Null Count  Dtype  \n",
      "---  ------       --------------  -----  \n",
      " 0   Date         365 non-null    object \n",
      " 1   Day          365 non-null    object \n",
      " 2   Temperature  365 non-null    float64\n",
      " 3   Rainfall     365 non-null    float64\n",
      " 4   Flyers       365 non-null    int64  \n",
      " 5   Price        365 non-null    float64\n",
      " 6   Sales        365 non-null    int64  \n",
      "dtypes: float64(3), int64(2), object(2)\n",
      "memory usage: 20.1+ KB\n"
     ]
    }
   ],
   "source": [
    "lem.info()"
   ]
  },
  {
   "cell_type": "code",
   "execution_count": 6,
   "id": "dafc5a64",
   "metadata": {},
   "outputs": [
    {
     "data": {
      "text/html": [
       "<div>\n",
       "<style scoped>\n",
       "    .dataframe tbody tr th:only-of-type {\n",
       "        vertical-align: middle;\n",
       "    }\n",
       "\n",
       "    .dataframe tbody tr th {\n",
       "        vertical-align: top;\n",
       "    }\n",
       "\n",
       "    .dataframe thead th {\n",
       "        text-align: right;\n",
       "    }\n",
       "</style>\n",
       "<table border=\"1\" class=\"dataframe\">\n",
       "  <thead>\n",
       "    <tr style=\"text-align: right;\">\n",
       "      <th></th>\n",
       "      <th>Day</th>\n",
       "      <th>Temperature</th>\n",
       "      <th>Rainfall</th>\n",
       "      <th>Flyers</th>\n",
       "      <th>Price</th>\n",
       "      <th>Sales</th>\n",
       "      <th>month</th>\n",
       "      <th>day</th>\n",
       "    </tr>\n",
       "    <tr>\n",
       "      <th>Date</th>\n",
       "      <th></th>\n",
       "      <th></th>\n",
       "      <th></th>\n",
       "      <th></th>\n",
       "      <th></th>\n",
       "      <th></th>\n",
       "      <th></th>\n",
       "      <th></th>\n",
       "    </tr>\n",
       "  </thead>\n",
       "  <tbody>\n",
       "    <tr>\n",
       "      <th>2017-01-01</th>\n",
       "      <td>Sunday</td>\n",
       "      <td>27.0</td>\n",
       "      <td>2.00</td>\n",
       "      <td>15</td>\n",
       "      <td>0.5</td>\n",
       "      <td>10</td>\n",
       "      <td>1</td>\n",
       "      <td>1</td>\n",
       "    </tr>\n",
       "    <tr>\n",
       "      <th>2017-01-02</th>\n",
       "      <td>Monday</td>\n",
       "      <td>28.9</td>\n",
       "      <td>1.33</td>\n",
       "      <td>15</td>\n",
       "      <td>0.5</td>\n",
       "      <td>13</td>\n",
       "      <td>1</td>\n",
       "      <td>2</td>\n",
       "    </tr>\n",
       "    <tr>\n",
       "      <th>2017-01-03</th>\n",
       "      <td>Tuesday</td>\n",
       "      <td>34.5</td>\n",
       "      <td>1.33</td>\n",
       "      <td>27</td>\n",
       "      <td>0.5</td>\n",
       "      <td>15</td>\n",
       "      <td>1</td>\n",
       "      <td>3</td>\n",
       "    </tr>\n",
       "    <tr>\n",
       "      <th>2017-01-04</th>\n",
       "      <td>Wednesday</td>\n",
       "      <td>44.1</td>\n",
       "      <td>1.05</td>\n",
       "      <td>28</td>\n",
       "      <td>0.5</td>\n",
       "      <td>17</td>\n",
       "      <td>1</td>\n",
       "      <td>4</td>\n",
       "    </tr>\n",
       "    <tr>\n",
       "      <th>2017-01-05</th>\n",
       "      <td>Thursday</td>\n",
       "      <td>42.4</td>\n",
       "      <td>1.00</td>\n",
       "      <td>33</td>\n",
       "      <td>0.5</td>\n",
       "      <td>18</td>\n",
       "      <td>1</td>\n",
       "      <td>5</td>\n",
       "    </tr>\n",
       "  </tbody>\n",
       "</table>\n",
       "</div>"
      ],
      "text/plain": [
       "                  Day  Temperature  Rainfall  Flyers  Price  Sales  month  day\n",
       "Date                                                                          \n",
       "2017-01-01     Sunday         27.0      2.00      15    0.5     10      1    1\n",
       "2017-01-02     Monday         28.9      1.33      15    0.5     13      1    2\n",
       "2017-01-03    Tuesday         34.5      1.33      27    0.5     15      1    3\n",
       "2017-01-04  Wednesday         44.1      1.05      28    0.5     17      1    4\n",
       "2017-01-05   Thursday         42.4      1.00      33    0.5     18      1    5"
      ]
     },
     "execution_count": 6,
     "metadata": {},
     "output_type": "execute_result"
    }
   ],
   "source": [
    "# changing to 'Date' col to datetime \n",
    "\n",
    "lem = p.to_datetime(lem, 'Date')\n",
    "lem.head()"
   ]
  },
  {
   "cell_type": "markdown",
   "id": "96a70ff7",
   "metadata": {},
   "source": [
    "### 1. Define a function named ```get_lower_and_upper_bounds``` that has two arguments. The first argument is a pandas Series. The second argument is the multiplier, which should have a default argument of 1.5."
   ]
  },
  {
   "cell_type": "code",
   "execution_count": 7,
   "id": "e33f4ab5",
   "metadata": {},
   "outputs": [
    {
     "data": {
      "text/plain": [
       "(31.0, 49.0)"
      ]
     },
     "execution_count": 7,
     "metadata": {},
     "output_type": "execute_result"
    }
   ],
   "source": [
    "# looking at 25th & 75th quantiles\n",
    "\n",
    "q1, q3 = lem['Flyers'].quantile([0.25, 0.75])\n",
    "q1, q3"
   ]
  },
  {
   "cell_type": "code",
   "execution_count": 8,
   "id": "b850f605",
   "metadata": {},
   "outputs": [
    {
     "data": {
      "text/plain": [
       "18.0"
      ]
     },
     "execution_count": 8,
     "metadata": {},
     "output_type": "execute_result"
    }
   ],
   "source": [
    "# column IQR\n",
    "    \n",
    "col_iqr = q3 - q1\n",
    "col_iqr"
   ]
  },
  {
   "cell_type": "code",
   "execution_count": 9,
   "id": "e528fa20",
   "metadata": {},
   "outputs": [
    {
     "data": {
      "text/plain": [
       "(4.0, 76.0)"
      ]
     },
     "execution_count": 9,
     "metadata": {},
     "output_type": "execute_result"
    }
   ],
   "source": [
    "# finding upper and lower bounds\n",
    "k = 1.5   \n",
    "\n",
    "col_lower = q1 - k * col_iqr\n",
    "col_upper = q3 + k * col_iqr\n",
    "\n",
    "col_lower, col_upper"
   ]
  },
  {
   "cell_type": "code",
   "execution_count": 10,
   "id": "f5ba8ee8",
   "metadata": {},
   "outputs": [
    {
     "data": {
      "text/html": [
       "<div>\n",
       "<style scoped>\n",
       "    .dataframe tbody tr th:only-of-type {\n",
       "        vertical-align: middle;\n",
       "    }\n",
       "\n",
       "    .dataframe tbody tr th {\n",
       "        vertical-align: top;\n",
       "    }\n",
       "\n",
       "    .dataframe thead th {\n",
       "        text-align: right;\n",
       "    }\n",
       "</style>\n",
       "<table border=\"1\" class=\"dataframe\">\n",
       "  <thead>\n",
       "    <tr style=\"text-align: right;\">\n",
       "      <th></th>\n",
       "      <th>Day</th>\n",
       "      <th>Temperature</th>\n",
       "      <th>Rainfall</th>\n",
       "      <th>Flyers</th>\n",
       "      <th>Price</th>\n",
       "      <th>Sales</th>\n",
       "      <th>month</th>\n",
       "      <th>day</th>\n",
       "    </tr>\n",
       "    <tr>\n",
       "      <th>Date</th>\n",
       "      <th></th>\n",
       "      <th></th>\n",
       "      <th></th>\n",
       "      <th></th>\n",
       "      <th></th>\n",
       "      <th></th>\n",
       "      <th></th>\n",
       "      <th></th>\n",
       "    </tr>\n",
       "  </thead>\n",
       "  <tbody>\n",
       "    <tr>\n",
       "      <th>2017-01-01</th>\n",
       "      <td>Sunday</td>\n",
       "      <td>27.0</td>\n",
       "      <td>2.00</td>\n",
       "      <td>15</td>\n",
       "      <td>0.5</td>\n",
       "      <td>10</td>\n",
       "      <td>1</td>\n",
       "      <td>1</td>\n",
       "    </tr>\n",
       "    <tr>\n",
       "      <th>2017-01-02</th>\n",
       "      <td>Monday</td>\n",
       "      <td>28.9</td>\n",
       "      <td>1.33</td>\n",
       "      <td>15</td>\n",
       "      <td>0.5</td>\n",
       "      <td>13</td>\n",
       "      <td>1</td>\n",
       "      <td>2</td>\n",
       "    </tr>\n",
       "    <tr>\n",
       "      <th>2017-01-03</th>\n",
       "      <td>Tuesday</td>\n",
       "      <td>34.5</td>\n",
       "      <td>1.33</td>\n",
       "      <td>27</td>\n",
       "      <td>0.5</td>\n",
       "      <td>15</td>\n",
       "      <td>1</td>\n",
       "      <td>3</td>\n",
       "    </tr>\n",
       "    <tr>\n",
       "      <th>2017-01-04</th>\n",
       "      <td>Wednesday</td>\n",
       "      <td>44.1</td>\n",
       "      <td>1.05</td>\n",
       "      <td>28</td>\n",
       "      <td>0.5</td>\n",
       "      <td>17</td>\n",
       "      <td>1</td>\n",
       "      <td>4</td>\n",
       "    </tr>\n",
       "    <tr>\n",
       "      <th>2017-01-05</th>\n",
       "      <td>Thursday</td>\n",
       "      <td>42.4</td>\n",
       "      <td>1.00</td>\n",
       "      <td>33</td>\n",
       "      <td>0.5</td>\n",
       "      <td>18</td>\n",
       "      <td>1</td>\n",
       "      <td>5</td>\n",
       "    </tr>\n",
       "  </tbody>\n",
       "</table>\n",
       "</div>"
      ],
      "text/plain": [
       "                  Day  Temperature  Rainfall  Flyers  Price  Sales  month  day\n",
       "Date                                                                          \n",
       "2017-01-01     Sunday         27.0      2.00      15    0.5     10      1    1\n",
       "2017-01-02     Monday         28.9      1.33      15    0.5     13      1    2\n",
       "2017-01-03    Tuesday         34.5      1.33      27    0.5     15      1    3\n",
       "2017-01-04  Wednesday         44.1      1.05      28    0.5     17      1    4\n",
       "2017-01-05   Thursday         42.4      1.00      33    0.5     18      1    5"
      ]
     },
     "execution_count": 10,
     "metadata": {},
     "output_type": "execute_result"
    }
   ],
   "source": [
    "lem.head()"
   ]
  },
  {
   "cell_type": "code",
   "execution_count": 11,
   "id": "0d9d5f5e",
   "metadata": {},
   "outputs": [],
   "source": [
    "# upper- & lower-bounds function\n",
    "\n",
    "def get_lower_and_upper_bounds(df, col, k = 1.5):\n",
    "    \n",
    "    # looking at 25th & 75th quantiles\n",
    "    q1, q3 = df[col].quantile([0.25, 0.75])\n",
    "\n",
    "        #spending_score IQR \n",
    "    col_iqr = q3 - q1\n",
    "\n",
    "        # finding upper and lower bounds\n",
    "    col_lower = q1 - k * col_iqr\n",
    "    col_upper = q3 + k * col_iqr\n",
    "\n",
    "    return (f'{col}, Q1 : {q1}, Q3 : {q3}, Column lower bound : {round(col_lower, 4)}, ' +\n",
    "                 f'Column upper bound : {col_upper}')"
   ]
  },
  {
   "cell_type": "code",
   "execution_count": 12,
   "id": "74f350f3",
   "metadata": {},
   "outputs": [
    {
     "data": {
      "text/plain": [
       "'Flyers, Q1 : 31.0, Q3 : 49.0, Column lower bound : 4.0, Column upper bound : 76.0'"
      ]
     },
     "execution_count": 12,
     "metadata": {},
     "output_type": "execute_result"
    }
   ],
   "source": [
    "# returning function \n",
    "get_lower_and_upper_bounds(lem, 'Flyers', k = 1.5)"
   ]
  },
  {
   "cell_type": "code",
   "execution_count": 13,
   "id": "0eda41dc",
   "metadata": {},
   "outputs": [
    {
     "data": {
      "text/plain": [
       "(31.0, 49.0, 4.0, 76.0)"
      ]
     },
     "execution_count": 13,
     "metadata": {},
     "output_type": "execute_result"
    }
   ],
   "source": [
    "# function variables\n",
    "q1, q3, col_lower, col_upper"
   ]
  },
  {
   "cell_type": "code",
   "execution_count": 14,
   "id": "d9350488",
   "metadata": {},
   "outputs": [
    {
     "data": {
      "text/plain": [
       "'Rainfall, Q1 : 0.65, Q3 : 0.91, Column lower bound : 0.26, Column upper bound : 1.3'"
      ]
     },
     "execution_count": 14,
     "metadata": {},
     "output_type": "execute_result"
    }
   ],
   "source": [
    "# upper & lower bounds for 'Rainfall'\n",
    "\n",
    "get_lower_and_upper_bounds(lem, 'Rainfall', k = 1.5)"
   ]
  },
  {
   "cell_type": "code",
   "execution_count": 15,
   "id": "93d0e8fe",
   "metadata": {},
   "outputs": [
    {
     "name": "stdout",
     "output_type": "stream",
     "text": [
      "Temperature, Q1 : 49.7, Q3 : 71.7, Column lower bound : 16.7, Column upper bound : 104.7\n",
      "Rainfall, Q1 : 0.65, Q3 : 0.91, Column lower bound : 0.26, Column upper bound : 1.3\n",
      "Flyers, Q1 : 31.0, Q3 : 49.0, Column lower bound : 4.0, Column upper bound : 76.0\n",
      "Price, Q1 : 0.5, Q3 : 0.5, Column lower bound : 0.5, Column upper bound : 0.5\n",
      "Sales, Q1 : 20.0, Q3 : 30.0, Column lower bound : 5.0, Column upper bound : 45.0\n"
     ]
    }
   ],
   "source": [
    "# upper, lower, quantiles for columns\n",
    "\n",
    "lem_list = ['Temperature', 'Rainfall', 'Flyers', 'Price', 'Sales']\n",
    "\n",
    "for col in lem_list:\n",
    "    \n",
    "    print(get_lower_and_upper_bounds(lem, col, k = 1.5))"
   ]
  },
  {
   "cell_type": "code",
   "execution_count": 22,
   "id": "81d4cbd5",
   "metadata": {},
   "outputs": [],
   "source": [
    "# upper bounds function\n",
    "\n",
    "def find_out_of_upper_lower_bounds(df, col, k = 1.5):\n",
    "    \n",
    "    #finding the quantiles for a particular column\n",
    "    q1, q3 = df[col].quantile([0.25, 0.75])\n",
    "    \n",
    "    # make iqr\n",
    "    iqr = q3 - q1\n",
    "    \n",
    "    # set upper outlier boundary\n",
    "    upper_bound = q3 + k * col_iqr\n",
    "    \n",
    "    # set lower outlier boundary\n",
    "    lower_bound = q1 - k * col_iqr\n",
    "\n",
    "    return (np.where(df[col] > upper_bound, 1, 0)), (np.where(df[col] < lower_bound, 1, 0))"
   ]
  },
  {
   "cell_type": "markdown",
   "id": "97e3c1db",
   "metadata": {},
   "source": [
    "### 2. Using lemonade.csv dataset and focusing on continuous variables:\n",
    "        Use the IQR Range Rule and the upper and lower bounds to identify the lower outliers of each column of  lemonade.csv, using the multiplier of 1.5. Do these lower outliers make sense? Which outliers to keep ?"
   ]
  },
  {
   "cell_type": "code",
   "execution_count": 23,
   "id": "94e08c4e",
   "metadata": {},
   "outputs": [
    {
     "data": {
      "text/plain": [
       "(array([0, 0, 0, 0, 0, 0, 0, 0, 0, 0, 0, 0, 0, 0, 0, 0, 0, 0, 0, 0, 0, 0,\n",
       "        0, 0, 0, 0, 0, 0, 0, 0, 0, 0, 0, 0, 0, 0, 0, 0, 0, 0, 0, 0, 0, 0,\n",
       "        0, 0, 0, 0, 0, 0, 0, 0, 0, 0, 0, 0, 0, 0, 0, 0, 0, 0, 0, 0, 0, 0,\n",
       "        0, 0, 0, 0, 0, 0, 0, 0, 0, 0, 0, 0, 0, 0, 0, 0, 0, 0, 0, 0, 0, 0,\n",
       "        0, 0, 0, 0, 0, 0, 0, 0, 0, 0, 0, 0, 0, 0, 0, 0, 0, 0, 0, 0, 0, 0,\n",
       "        0, 0, 0, 0, 0, 0, 0, 0, 0, 0, 0, 0, 0, 0, 0, 0, 0, 0, 0, 0, 0, 0,\n",
       "        0, 0, 0, 0, 0, 0, 0, 0, 0, 0, 0, 0, 0, 0, 0, 0, 0, 0, 0, 0, 0, 0,\n",
       "        0, 0, 0, 0, 0, 0, 0, 0, 0, 0, 0, 0, 1, 0, 0, 0, 0, 0, 0, 0, 0, 0,\n",
       "        0, 0, 0, 0, 0, 0, 0, 0, 0, 0, 0, 0, 0, 0, 0, 0, 0, 0, 1, 0, 0, 0,\n",
       "        0, 0, 0, 0, 0, 0, 0, 0, 0, 0, 0, 0, 0, 0, 0, 0, 0, 0, 0, 0, 0, 0,\n",
       "        0, 0, 0, 0, 0, 0, 0, 0, 0, 0, 0, 0, 0, 0, 0, 0, 0, 0, 0, 0, 0, 0,\n",
       "        0, 0, 0, 0, 0, 0, 0, 0, 0, 0, 0, 0, 0, 0, 0, 0, 0, 0, 0, 0, 0, 0,\n",
       "        0, 0, 0, 0, 0, 0, 0, 0, 0, 0, 0, 0, 0, 0, 0, 0, 0, 0, 0, 0, 0, 0,\n",
       "        0, 0, 0, 0, 0, 0, 0, 0, 0, 0, 0, 0, 0, 0, 0, 0, 0, 0, 0, 0, 0, 0,\n",
       "        0, 0, 0, 0, 0, 0, 0, 0, 0, 0, 0, 0, 0, 0, 0, 0, 0, 0, 0, 0, 0, 0,\n",
       "        0, 0, 0, 0, 0, 0, 0, 0, 0, 0, 0, 0, 0, 0, 0, 0, 0, 0, 0, 0, 0, 0,\n",
       "        0, 0, 0, 0, 0, 0, 0, 0, 0, 0, 0, 0, 0]),\n",
       " array([0, 0, 0, 0, 0, 0, 0, 0, 0, 0, 0, 0, 0, 0, 0, 0, 0, 0, 0, 0, 0, 0,\n",
       "        0, 0, 0, 0, 0, 0, 0, 0, 0, 0, 0, 0, 0, 0, 0, 0, 0, 0, 0, 0, 0, 0,\n",
       "        0, 0, 0, 0, 0, 0, 0, 0, 0, 0, 0, 0, 0, 0, 0, 0, 0, 0, 0, 0, 0, 0,\n",
       "        0, 0, 0, 0, 0, 0, 0, 0, 0, 0, 0, 0, 0, 0, 0, 0, 0, 0, 0, 0, 0, 0,\n",
       "        0, 0, 0, 0, 0, 0, 0, 0, 0, 0, 0, 0, 0, 0, 0, 0, 0, 0, 0, 0, 0, 0,\n",
       "        0, 0, 0, 0, 0, 0, 0, 0, 0, 0, 0, 0, 0, 0, 0, 0, 0, 0, 0, 0, 0, 0,\n",
       "        0, 0, 0, 0, 0, 0, 0, 0, 0, 0, 0, 0, 0, 0, 0, 0, 0, 0, 0, 0, 0, 0,\n",
       "        0, 0, 0, 0, 0, 0, 0, 0, 0, 0, 0, 0, 0, 0, 0, 0, 0, 0, 0, 0, 0, 0,\n",
       "        0, 0, 0, 0, 0, 0, 0, 0, 0, 0, 0, 0, 0, 0, 0, 0, 0, 0, 0, 0, 0, 0,\n",
       "        0, 0, 0, 0, 0, 0, 0, 0, 0, 0, 0, 0, 0, 0, 0, 0, 0, 0, 0, 0, 0, 0,\n",
       "        0, 0, 0, 0, 0, 0, 0, 0, 0, 0, 0, 0, 0, 0, 0, 0, 0, 0, 0, 0, 0, 0,\n",
       "        0, 0, 0, 0, 0, 0, 0, 0, 0, 0, 0, 0, 0, 0, 0, 0, 0, 0, 0, 0, 0, 0,\n",
       "        0, 0, 0, 0, 0, 0, 0, 0, 0, 0, 0, 0, 0, 0, 0, 0, 0, 0, 0, 0, 0, 0,\n",
       "        0, 0, 0, 0, 0, 0, 0, 0, 0, 0, 0, 0, 0, 0, 0, 0, 0, 0, 0, 0, 0, 0,\n",
       "        0, 0, 0, 0, 0, 0, 0, 0, 0, 0, 0, 0, 0, 0, 0, 0, 1, 0, 0, 0, 0, 0,\n",
       "        0, 0, 0, 0, 0, 0, 0, 0, 0, 0, 0, 0, 0, 0, 0, 0, 0, 0, 0, 0, 0, 0,\n",
       "        0, 0, 0, 0, 0, 0, 0, 0, 0, 0, 0, 0, 0]))"
      ]
     },
     "execution_count": 23,
     "metadata": {},
     "output_type": "execute_result"
    }
   ],
   "source": [
    "# determing whether any 'Flyers' is above the upper bound or the lower bound\n",
    "\n",
    "find_out_of_upper_lower_bounds(lem, 'Flyers', k = 1.5)"
   ]
  },
  {
   "cell_type": "code",
   "execution_count": 29,
   "id": "665a8392",
   "metadata": {},
   "outputs": [
    {
     "data": {
      "text/html": [
       "<div>\n",
       "<style scoped>\n",
       "    .dataframe tbody tr th:only-of-type {\n",
       "        vertical-align: middle;\n",
       "    }\n",
       "\n",
       "    .dataframe tbody tr th {\n",
       "        vertical-align: top;\n",
       "    }\n",
       "\n",
       "    .dataframe thead th {\n",
       "        text-align: right;\n",
       "    }\n",
       "</style>\n",
       "<table border=\"1\" class=\"dataframe\">\n",
       "  <thead>\n",
       "    <tr style=\"text-align: right;\">\n",
       "      <th>Date</th>\n",
       "      <th>2017-05-18</th>\n",
       "      <th>2017-02-12</th>\n",
       "      <th>2017-07-14</th>\n",
       "    </tr>\n",
       "  </thead>\n",
       "  <tbody>\n",
       "    <tr>\n",
       "      <th>Day</th>\n",
       "      <td>Thursday</td>\n",
       "      <td>Sunday</td>\n",
       "      <td>Friday</td>\n",
       "    </tr>\n",
       "    <tr>\n",
       "      <th>Temperature</th>\n",
       "      <td>72.0</td>\n",
       "      <td>55.6</td>\n",
       "      <td>92.0</td>\n",
       "    </tr>\n",
       "    <tr>\n",
       "      <th>Rainfall</th>\n",
       "      <td>0.67</td>\n",
       "      <td>0.83</td>\n",
       "      <td>0.5</td>\n",
       "    </tr>\n",
       "    <tr>\n",
       "      <th>Flyers</th>\n",
       "      <td>53</td>\n",
       "      <td>41</td>\n",
       "      <td>80</td>\n",
       "    </tr>\n",
       "    <tr>\n",
       "      <th>Price</th>\n",
       "      <td>0.5</td>\n",
       "      <td>0.5</td>\n",
       "      <td>0.5</td>\n",
       "    </tr>\n",
       "    <tr>\n",
       "      <th>Sales</th>\n",
       "      <td>30</td>\n",
       "      <td>22</td>\n",
       "      <td>40</td>\n",
       "    </tr>\n",
       "    <tr>\n",
       "      <th>month</th>\n",
       "      <td>5</td>\n",
       "      <td>2</td>\n",
       "      <td>7</td>\n",
       "    </tr>\n",
       "    <tr>\n",
       "      <th>day</th>\n",
       "      <td>18</td>\n",
       "      <td>12</td>\n",
       "      <td>14</td>\n",
       "    </tr>\n",
       "    <tr>\n",
       "      <th>Temperature_upper_outliers</th>\n",
       "      <td>0</td>\n",
       "      <td>0</td>\n",
       "      <td>0</td>\n",
       "    </tr>\n",
       "    <tr>\n",
       "      <th>Temperature_lower_outliers</th>\n",
       "      <td>0</td>\n",
       "      <td>0</td>\n",
       "      <td>0</td>\n",
       "    </tr>\n",
       "    <tr>\n",
       "      <th>Rainfall_upper_outliers</th>\n",
       "      <td>0</td>\n",
       "      <td>0</td>\n",
       "      <td>0</td>\n",
       "    </tr>\n",
       "    <tr>\n",
       "      <th>Rainfall_lower_outliers</th>\n",
       "      <td>0</td>\n",
       "      <td>0</td>\n",
       "      <td>0</td>\n",
       "    </tr>\n",
       "    <tr>\n",
       "      <th>Flyers_upper_outliers</th>\n",
       "      <td>0</td>\n",
       "      <td>0</td>\n",
       "      <td>1</td>\n",
       "    </tr>\n",
       "    <tr>\n",
       "      <th>Flyers_lower_outliers</th>\n",
       "      <td>0</td>\n",
       "      <td>0</td>\n",
       "      <td>0</td>\n",
       "    </tr>\n",
       "    <tr>\n",
       "      <th>Price_upper_outliers</th>\n",
       "      <td>0</td>\n",
       "      <td>0</td>\n",
       "      <td>0</td>\n",
       "    </tr>\n",
       "    <tr>\n",
       "      <th>Price_lower_outliers</th>\n",
       "      <td>0</td>\n",
       "      <td>0</td>\n",
       "      <td>0</td>\n",
       "    </tr>\n",
       "    <tr>\n",
       "      <th>Sales_upper_outliers</th>\n",
       "      <td>0</td>\n",
       "      <td>0</td>\n",
       "      <td>0</td>\n",
       "    </tr>\n",
       "    <tr>\n",
       "      <th>Sales_lower_outliers</th>\n",
       "      <td>0</td>\n",
       "      <td>0</td>\n",
       "      <td>0</td>\n",
       "    </tr>\n",
       "  </tbody>\n",
       "</table>\n",
       "</div>"
      ],
      "text/plain": [
       "Date                       2017-05-18 2017-02-12 2017-07-14\n",
       "Day                          Thursday     Sunday     Friday\n",
       "Temperature                      72.0       55.6       92.0\n",
       "Rainfall                         0.67       0.83        0.5\n",
       "Flyers                             53         41         80\n",
       "Price                             0.5        0.5        0.5\n",
       "Sales                              30         22         40\n",
       "month                               5          2          7\n",
       "day                                18         12         14\n",
       "Temperature_upper_outliers          0          0          0\n",
       "Temperature_lower_outliers          0          0          0\n",
       "Rainfall_upper_outliers             0          0          0\n",
       "Rainfall_lower_outliers             0          0          0\n",
       "Flyers_upper_outliers               0          0          1\n",
       "Flyers_lower_outliers               0          0          0\n",
       "Price_upper_outliers                0          0          0\n",
       "Price_lower_outliers                0          0          0\n",
       "Sales_upper_outliers                0          0          0\n",
       "Sales_lower_outliers                0          0          0"
      ]
     },
     "execution_count": 29,
     "metadata": {},
     "output_type": "execute_result"
    }
   ],
   "source": [
    "# assigning new columns to dataframe based on above function\n",
    "\n",
    "lem_list = ['Temperature', 'Rainfall', 'Flyers', 'Price', 'Sales']\n",
    "\n",
    "#def lem_upper_lower():\n",
    "for col in lem_list:\n",
    "    \n",
    "    lem[f'{col}_upper_outliers'], lem[f'{col}_lower_outliers'] = find_out_of_upper_lower_bounds(lem, \n",
    "                                                                                                col, k = 1.5)\n",
    "lem.sample(3).T    "
   ]
  },
  {
   "cell_type": "code",
   "execution_count": 25,
   "id": "66a6b703",
   "metadata": {},
   "outputs": [
    {
     "name": "stdout",
     "output_type": "stream",
     "text": [
      "Temperature, Q1 : 49.7, Q3 : 71.7, Column lower bound : 16.7, Column upper bound : 104.7\n",
      "Rainfall, Q1 : 0.65, Q3 : 0.91, Column lower bound : 0.26, Column upper bound : 1.3\n",
      "Flyers, Q1 : 31.0, Q3 : 49.0, Column lower bound : 4.0, Column upper bound : 76.0\n",
      "Price, Q1 : 0.5, Q3 : 0.5, Column lower bound : 0.5, Column upper bound : 0.5\n",
      "Sales, Q1 : 20.0, Q3 : 30.0, Column lower bound : 5.0, Column upper bound : 45.0\n"
     ]
    }
   ],
   "source": [
    "# upper, lower, quantiles for columns\n",
    "\n",
    "lem_list = ['Temperature', 'Rainfall', 'Flyers', 'Price', 'Sales']\n",
    "\n",
    "for col in lem_list:\n",
    "    \n",
    "    print(get_lower_and_upper_bounds(lem, col, k = 1.5))"
   ]
  },
  {
   "cell_type": "code",
   "execution_count": 20,
   "id": "f846d902",
   "metadata": {},
   "outputs": [
    {
     "ename": "NameError",
     "evalue": "name 'lem_upper_lower' is not defined",
     "output_type": "error",
     "traceback": [
      "\u001b[0;31m---------------------------------------------------------------------------\u001b[0m",
      "\u001b[0;31mNameError\u001b[0m                                 Traceback (most recent call last)",
      "Input \u001b[0;32mIn [20]\u001b[0m, in \u001b[0;36m<cell line: 1>\u001b[0;34m()\u001b[0m\n\u001b[0;32m----> 1\u001b[0m \u001b[43mlem_upper_lower\u001b[49m()\n",
      "\u001b[0;31mNameError\u001b[0m: name 'lem_upper_lower' is not defined"
     ]
    }
   ],
   "source": [
    "lem_upper_lower()"
   ]
  },
  {
   "cell_type": "code",
   "execution_count": null,
   "id": "01bec20b",
   "metadata": {},
   "outputs": [],
   "source": []
  }
 ],
 "metadata": {
  "kernelspec": {
   "display_name": "Python 3 (ipykernel)",
   "language": "python",
   "name": "python3"
  },
  "language_info": {
   "codemirror_mode": {
    "name": "ipython",
    "version": 3
   },
   "file_extension": ".py",
   "mimetype": "text/x-python",
   "name": "python",
   "nbconvert_exporter": "python",
   "pygments_lexer": "ipython3",
   "version": "3.9.13"
  }
 },
 "nbformat": 4,
 "nbformat_minor": 5
}
