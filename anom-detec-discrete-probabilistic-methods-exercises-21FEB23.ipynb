{
 "cells": [
  {
   "cell_type": "markdown",
   "id": "9f055627",
   "metadata": {},
   "source": [
    "# Discrete Probabilistic Methods Exercises\n",
    "\n",
    "21  February 2023"
   ]
  },
  {
   "cell_type": "code",
   "execution_count": 1,
   "id": "71aa4417",
   "metadata": {},
   "outputs": [],
   "source": [
    "import matplotlib.pyplot as plt\n",
    "import numpy as np\n",
    "import pandas as pd\n",
    "import seaborn as sns\n",
    "from sklearn import metrics\n",
    "from env import username, host, password\n",
    "import env"
   ]
  },
  {
   "cell_type": "markdown",
   "id": "48d4bc0a",
   "metadata": {},
   "source": [
    "\n",
    "\n",
    "## Use basic probability to identify anomalous requests. Using the methods covered in this lesson, examine the rest of the features in the api access logs data set."
   ]
  },
  {
   "cell_type": "code",
   "execution_count": 2,
   "id": "5eeeee78",
   "metadata": {},
   "outputs": [],
   "source": [
    "# function to deal with parsing one entry in our log data\n",
    "\n",
    "\n",
    "def parse_log_entry(entry):\n",
    "    \n",
    "    parts = entry.split()\n",
    "    output = {}\n",
    "    output['ip'] = parts[0]\n",
    "    output['timestamp'] = parts[3][1].replace(':', ' ', 1)\n",
    "    output['request_method'] = parts[6]\n",
    "    output['http_version'] = parts[7][: -1]\n",
    "    output['status_code'] = parts[8]\n",
    "    output['size'] = int(parts[9])\n",
    "    output['user_agent'] = ' '.join(parts[11:1]).replace('\"', '')\n",
    "    \n",
    "    return pd.Series(output)\n",
    "    "
   ]
  },
  {
   "cell_type": "code",
   "execution_count": 3,
   "id": "13d9a039",
   "metadata": {},
   "outputs": [],
   "source": [
    "\n",
    "url = f'mysql+pymysql://{env.username}:{env.password}@{env.host}/logs'\n",
    "    \n",
    "df = pd.read_sql('SELECT * FROM api_access', url)\n",
    "\n",
    "# df = pd.concat([df.entry, df.entry.apply(parse_log_entry)], axis=1)\n",
    "df = df.entry.apply(parse_log_entry)"
   ]
  },
  {
   "cell_type": "code",
   "execution_count": 19,
   "id": "e405d39c",
   "metadata": {},
   "outputs": [
    {
     "data": {
      "text/html": [
       "<div>\n",
       "<style scoped>\n",
       "    .dataframe tbody tr th:only-of-type {\n",
       "        vertical-align: middle;\n",
       "    }\n",
       "\n",
       "    .dataframe tbody tr th {\n",
       "        vertical-align: top;\n",
       "    }\n",
       "\n",
       "    .dataframe thead th {\n",
       "        text-align: right;\n",
       "    }\n",
       "</style>\n",
       "<table border=\"1\" class=\"dataframe\">\n",
       "  <thead>\n",
       "    <tr style=\"text-align: right;\">\n",
       "      <th></th>\n",
       "      <th>ip</th>\n",
       "      <th>timestamp</th>\n",
       "      <th>request_method</th>\n",
       "      <th>http_version</th>\n",
       "      <th>status_code</th>\n",
       "      <th>size</th>\n",
       "      <th>user_agent</th>\n",
       "    </tr>\n",
       "  </thead>\n",
       "  <tbody>\n",
       "    <tr>\n",
       "      <th>10812</th>\n",
       "      <td>97.105.19.58</td>\n",
       "      <td>1</td>\n",
       "      <td>/api/v1/sales?page=53</td>\n",
       "      <td>HTTP/1.1</td>\n",
       "      <td>200</td>\n",
       "      <td>511577</td>\n",
       "      <td></td>\n",
       "    </tr>\n",
       "    <tr>\n",
       "      <th>6666</th>\n",
       "      <td>97.105.19.58</td>\n",
       "      <td>1</td>\n",
       "      <td>/api/v1/sales?page=15</td>\n",
       "      <td>HTTP/1.1</td>\n",
       "      <td>200</td>\n",
       "      <td>501736</td>\n",
       "      <td></td>\n",
       "    </tr>\n",
       "    <tr>\n",
       "      <th>5925</th>\n",
       "      <td>97.105.19.58</td>\n",
       "      <td>1</td>\n",
       "      <td>/api/v1/sales?page=2</td>\n",
       "      <td>HTTP/1.1</td>\n",
       "      <td>200</td>\n",
       "      <td>494819</td>\n",
       "      <td></td>\n",
       "    </tr>\n",
       "  </tbody>\n",
       "</table>\n",
       "</div>"
      ],
      "text/plain": [
       "                 ip timestamp         request_method http_version status_code  \\\n",
       "10812  97.105.19.58         1  /api/v1/sales?page=53     HTTP/1.1         200   \n",
       "6666   97.105.19.58         1  /api/v1/sales?page=15     HTTP/1.1         200   \n",
       "5925   97.105.19.58         1   /api/v1/sales?page=2     HTTP/1.1         200   \n",
       "\n",
       "         size user_agent  \n",
       "10812  511577             \n",
       "6666   501736             \n",
       "5925   494819             "
      ]
     },
     "execution_count": 19,
     "metadata": {},
     "output_type": "execute_result"
    }
   ],
   "source": [
    "df.sample(3)"
   ]
  },
  {
   "cell_type": "code",
   "execution_count": 21,
   "id": "f254c00a",
   "metadata": {},
   "outputs": [
    {
     "data": {
      "text/plain": [
       "1    13974\n",
       "Name: timestamp, dtype: int64"
      ]
     },
     "execution_count": 21,
     "metadata": {},
     "output_type": "execute_result"
    }
   ],
   "source": [
    "# a count of each timestamp\n",
    "\n",
    "df['timestamp'].value_counts()"
   ]
  },
  {
   "cell_type": "code",
   "execution_count": 32,
   "id": "22ab0d4e",
   "metadata": {},
   "outputs": [
    {
     "data": {
      "text/plain": [
       "/api/v1/sales?page=2    709\n",
       "/api/v1/items           464\n",
       "/api/v1/items?page=2    291\n",
       "/api/v1/items?page=3    219\n",
       "/api/v1/stores          162\n",
       "Name: request_method, dtype: int64"
      ]
     },
     "execution_count": 32,
     "metadata": {},
     "output_type": "execute_result"
    }
   ],
   "source": [
    "# count of 'request_method'\n",
    "\n",
    "df['request_method'].value_counts().head()"
   ]
  },
  {
   "cell_type": "code",
   "execution_count": 33,
   "id": "e0732f84",
   "metadata": {},
   "outputs": [
    {
     "data": {
      "text/plain": [
       "/api/v1/sales?page=2    0.050737\n",
       "/api/v1/items           0.033205\n",
       "/api/v1/items?page=2    0.020824\n",
       "/api/v1/items?page=3    0.015672\n",
       "/api/v1/stores          0.011593\n",
       "Name: request_method, dtype: float64"
      ]
     },
     "execution_count": 33,
     "metadata": {},
     "output_type": "execute_result"
    }
   ],
   "source": [
    "# pc count of 'request_method'\n",
    "\n",
    "df['request_method'].value_counts(normalize = True).head()"
   ]
  },
  {
   "cell_type": "code",
   "execution_count": 24,
   "id": "3d4631e6",
   "metadata": {},
   "outputs": [
    {
     "data": {
      "text/plain": [
       "HTTP/1.1    13974\n",
       "Name: http_version, dtype: int64"
      ]
     },
     "execution_count": 24,
     "metadata": {},
     "output_type": "execute_result"
    }
   ],
   "source": [
    "# count of each httpversion\n",
    "\n",
    "df['http_version'].value_counts()"
   ]
  },
  {
   "cell_type": "code",
   "execution_count": 26,
   "id": "cab4c880",
   "metadata": {},
   "outputs": [
    {
     "data": {
      "text/plain": [
       "HTTP/1.1    1.0\n",
       "Name: http_version, dtype: float64"
      ]
     },
     "execution_count": 26,
     "metadata": {},
     "output_type": "execute_result"
    }
   ],
   "source": [
    "# pc of \n",
    "\n",
    "df['http_version'].value_counts(normalize = True)"
   ]
  },
  {
   "cell_type": "code",
   "execution_count": 23,
   "id": "39ad17da",
   "metadata": {},
   "outputs": [
    {
     "data": {
      "text/plain": [
       "13974"
      ]
     },
     "execution_count": 23,
     "metadata": {},
     "output_type": "execute_result"
    }
   ],
   "source": [
    "# count of each status code\n",
    "\n",
    "df['status_code'].value_counts().sum()"
   ]
  },
  {
   "cell_type": "code",
   "execution_count": 28,
   "id": "7c06584d",
   "metadata": {},
   "outputs": [
    {
     "data": {
      "text/plain": [
       "494819    705\n",
       "3561      548\n",
       "3659      291\n",
       "1328      229\n",
       "1787      219\n",
       "Name: size, dtype: int64"
      ]
     },
     "execution_count": 28,
     "metadata": {},
     "output_type": "execute_result"
    }
   ],
   "source": [
    "# count of each 'size'\n",
    "\n",
    "df['size'].value_counts().head()"
   ]
  },
  {
   "cell_type": "code",
   "execution_count": 29,
   "id": "38ceca36",
   "metadata": {},
   "outputs": [
    {
     "data": {
      "text/plain": [
       "494819    0.050451\n",
       "3561      0.039216\n",
       "3659      0.020824\n",
       "1328      0.016388\n",
       "1787      0.015672\n",
       "Name: size, dtype: float64"
      ]
     },
     "execution_count": 29,
     "metadata": {},
     "output_type": "execute_result"
    }
   ],
   "source": [
    "# pc count of each 'size'\n",
    "\n",
    "df['size'].value_counts(normalize = True).head()"
   ]
  },
  {
   "cell_type": "code",
   "execution_count": 30,
   "id": "ce0e8ac7",
   "metadata": {},
   "outputs": [
    {
     "data": {
      "text/plain": [
       "    13974\n",
       "Name: user_agent, dtype: int64"
      ]
     },
     "execution_count": 30,
     "metadata": {},
     "output_type": "execute_result"
    }
   ],
   "source": [
    "# user agent\n",
    "\n",
    "df['user_agent'].value_counts()"
   ]
  },
  {
   "cell_type": "code",
   "execution_count": 36,
   "id": "bae547a9",
   "metadata": {},
   "outputs": [],
   "source": [
    "# function to merge the two \n",
    "\n",
    "\n",
    "def value_counts_and_freqs(s : pd.Series, dropna = True) -> pd.DataFrame:\n",
    "    \n",
    "    return pd.merge(\n",
    "            s.value_counts(dropna = False).rename('count'),\n",
    "            s.value_counts(dropna = False, normalize = True).rename('proba'),\n",
    "            left_index = True,\n",
    "            right_index = True)"
   ]
  },
  {
   "cell_type": "code",
   "execution_count": 37,
   "id": "3c15df23",
   "metadata": {},
   "outputs": [
    {
     "data": {
      "text/html": [
       "<div>\n",
       "<style scoped>\n",
       "    .dataframe tbody tr th:only-of-type {\n",
       "        vertical-align: middle;\n",
       "    }\n",
       "\n",
       "    .dataframe tbody tr th {\n",
       "        vertical-align: top;\n",
       "    }\n",
       "\n",
       "    .dataframe thead th {\n",
       "        text-align: right;\n",
       "    }\n",
       "</style>\n",
       "<table border=\"1\" class=\"dataframe\">\n",
       "  <thead>\n",
       "    <tr style=\"text-align: right;\">\n",
       "      <th></th>\n",
       "      <th>count</th>\n",
       "      <th>proba</th>\n",
       "    </tr>\n",
       "  </thead>\n",
       "  <tbody>\n",
       "    <tr>\n",
       "      <th>/api/v1/sales?page=2</th>\n",
       "      <td>709</td>\n",
       "      <td>0.050737</td>\n",
       "    </tr>\n",
       "    <tr>\n",
       "      <th>/api/v1/items</th>\n",
       "      <td>464</td>\n",
       "      <td>0.033205</td>\n",
       "    </tr>\n",
       "    <tr>\n",
       "      <th>/api/v1/items?page=2</th>\n",
       "      <td>291</td>\n",
       "      <td>0.020824</td>\n",
       "    </tr>\n",
       "    <tr>\n",
       "      <th>/api/v1/items?page=3</th>\n",
       "      <td>219</td>\n",
       "      <td>0.015672</td>\n",
       "    </tr>\n",
       "    <tr>\n",
       "      <th>/api/v1/stores</th>\n",
       "      <td>162</td>\n",
       "      <td>0.011593</td>\n",
       "    </tr>\n",
       "  </tbody>\n",
       "</table>\n",
       "</div>"
      ],
      "text/plain": [
       "                      count     proba\n",
       "/api/v1/sales?page=2    709  0.050737\n",
       "/api/v1/items           464  0.033205\n",
       "/api/v1/items?page=2    291  0.020824\n",
       "/api/v1/items?page=3    219  0.015672\n",
       "/api/v1/stores          162  0.011593"
      ]
     },
     "execution_count": 37,
     "metadata": {},
     "output_type": "execute_result"
    }
   ],
   "source": [
    "# creating 'request_method' df\n",
    "\n",
    "request_method_df = value_counts_and_freqs(df['request_method'])\n",
    "\n",
    "request_method_df.head()"
   ]
  },
  {
   "cell_type": "code",
   "execution_count": 45,
   "id": "280910bc",
   "metadata": {},
   "outputs": [
    {
     "data": {
      "text/html": [
       "<div>\n",
       "<style scoped>\n",
       "    .dataframe tbody tr th:only-of-type {\n",
       "        vertical-align: middle;\n",
       "    }\n",
       "\n",
       "    .dataframe tbody tr th {\n",
       "        vertical-align: top;\n",
       "    }\n",
       "\n",
       "    .dataframe thead th {\n",
       "        text-align: right;\n",
       "    }\n",
       "</style>\n",
       "<table border=\"1\" class=\"dataframe\">\n",
       "  <thead>\n",
       "    <tr style=\"text-align: right;\">\n",
       "      <th></th>\n",
       "      <th>count</th>\n",
       "      <th>proba</th>\n",
       "    </tr>\n",
       "  </thead>\n",
       "  <tbody>\n",
       "    <tr>\n",
       "      <th>494819</th>\n",
       "      <td>705</td>\n",
       "      <td>0.050451</td>\n",
       "    </tr>\n",
       "    <tr>\n",
       "      <th>3561</th>\n",
       "      <td>548</td>\n",
       "      <td>0.039216</td>\n",
       "    </tr>\n",
       "    <tr>\n",
       "      <th>3659</th>\n",
       "      <td>291</td>\n",
       "      <td>0.020824</td>\n",
       "    </tr>\n",
       "    <tr>\n",
       "      <th>1328</th>\n",
       "      <td>229</td>\n",
       "      <td>0.016388</td>\n",
       "    </tr>\n",
       "    <tr>\n",
       "      <th>1787</th>\n",
       "      <td>219</td>\n",
       "      <td>0.015672</td>\n",
       "    </tr>\n",
       "  </tbody>\n",
       "</table>\n",
       "</div>"
      ],
      "text/plain": [
       "        count     proba\n",
       "494819    705  0.050451\n",
       "3561      548  0.039216\n",
       "3659      291  0.020824\n",
       "1328      229  0.016388\n",
       "1787      219  0.015672"
      ]
     },
     "execution_count": 45,
     "metadata": {},
     "output_type": "execute_result"
    }
   ],
   "source": [
    "# creating 'size' df\n",
    "\n",
    "size_df = value_counts_and_freqs(df['size'])\n",
    "\n",
    "size_df.head()"
   ]
  },
  {
   "cell_type": "code",
   "execution_count": 54,
   "id": "c12d9a49",
   "metadata": {},
   "outputs": [
    {
     "data": {
      "text/plain": [
       "<AxesSubplot:>"
      ]
     },
     "execution_count": 54,
     "metadata": {},
     "output_type": "execute_result"
    },
    {
     "data": {
      "image/png": "[encoded data removed]",
      "text/plain": [
       "<Figure size 600x600 with 1 Axes>"
      ]
     },
     "metadata": {},
     "output_type": "display_data"
    }
   ],
   "source": [
    "# counting unique entries for request_method\n",
    "\n",
    "request_method_df['count'].sort_values().tail(7).plot.barh(figsize = (6, 6))"
   ]
  },
  {
   "cell_type": "markdown",
   "id": "d193dc78",
   "metadata": {},
   "source": [
    "The majority come from the 'page=2' request method, followed by 'v1/items'"
   ]
  },
  {
   "cell_type": "code",
   "execution_count": 55,
   "id": "9468c107",
   "metadata": {},
   "outputs": [
    {
     "data": {
      "text/plain": [
       "<AxesSubplot:>"
      ]
     },
     "execution_count": 55,
     "metadata": {},
     "output_type": "execute_result"
    },
    {
     "data": {
      "image/png": "[encoded data removed]",
      "text/plain": [
       "<Figure size 600x600 with 1 Axes>"
      ]
     },
     "metadata": {},
     "output_type": "display_data"
    }
   ],
   "source": [
    "# counting unique entries for size\n",
    "\n",
    "size_df['count'].sort_values().tail(7).plot.barh(figsize = (6, 6))"
   ]
  },
  {
   "cell_type": "markdown",
   "id": "ce2839ec",
   "metadata": {},
   "source": [
    "The majority have a size of 494819, followed by a size of 3561."
   ]
  },
  {
   "cell_type": "code",
   "execution_count": null,
   "id": "12e41203",
   "metadata": {},
   "outputs": [],
   "source": []
  },
  {
   "cell_type": "code",
   "execution_count": 62,
   "id": "d22bd2be",
   "metadata": {},
   "outputs": [
    {
     "data": {
      "text/html": [
       "<div>\n",
       "<style scoped>\n",
       "    .dataframe tbody tr th:only-of-type {\n",
       "        vertical-align: middle;\n",
       "    }\n",
       "\n",
       "    .dataframe tbody tr th {\n",
       "        vertical-align: top;\n",
       "    }\n",
       "\n",
       "    .dataframe thead th {\n",
       "        text-align: right;\n",
       "    }\n",
       "</style>\n",
       "<table border=\"1\" class=\"dataframe\">\n",
       "  <thead>\n",
       "    <tr style=\"text-align: right;\">\n",
       "      <th></th>\n",
       "      <th>request_method</th>\n",
       "      <th>status_code</th>\n",
       "      <th>proba_status_given_req_meth</th>\n",
       "    </tr>\n",
       "  </thead>\n",
       "  <tbody>\n",
       "    <tr>\n",
       "      <th>177</th>\n",
       "      <td>/api/v1/sales?page=66</td>\n",
       "      <td>200</td>\n",
       "      <td>1.0</td>\n",
       "    </tr>\n",
       "    <tr>\n",
       "      <th>133</th>\n",
       "      <td>/api/v1/sales?page=28</td>\n",
       "      <td>200</td>\n",
       "      <td>1.0</td>\n",
       "    </tr>\n",
       "    <tr>\n",
       "      <th>28</th>\n",
       "      <td>/api/v1/sales?page=102</td>\n",
       "      <td>200</td>\n",
       "      <td>1.0</td>\n",
       "    </tr>\n",
       "    <tr>\n",
       "      <th>54</th>\n",
       "      <td>/api/v1/sales?page=125</td>\n",
       "      <td>200</td>\n",
       "      <td>1.0</td>\n",
       "    </tr>\n",
       "    <tr>\n",
       "      <th>46</th>\n",
       "      <td>/api/v1/sales?page=118</td>\n",
       "      <td>200</td>\n",
       "      <td>1.0</td>\n",
       "    </tr>\n",
       "  </tbody>\n",
       "</table>\n",
       "</div>"
      ],
      "text/plain": [
       "             request_method status_code  proba_status_given_req_meth\n",
       "177   /api/v1/sales?page=66         200                          1.0\n",
       "133   /api/v1/sales?page=28         200                          1.0\n",
       "28   /api/v1/sales?page=102         200                          1.0\n",
       "54   /api/v1/sales?page=125         200                          1.0\n",
       "46   /api/v1/sales?page=118         200                          1.0"
      ]
     },
     "execution_count": 62,
     "metadata": {},
     "output_type": "execute_result"
    }
   ],
   "source": [
    "# look at request_method, status and the probability that it will the that status\n",
    "\n",
    "status_given_req_meth = (df.groupby('request_method')\n",
    "                        .status_code.value_counts(normalize = True)\n",
    "                        .rename('proba_status_given_req_meth')\n",
    "                        .reset_index())\n",
    "\n",
    "status_given_req_meth.sample(5)"
   ]
  },
  {
   "cell_type": "code",
   "execution_count": null,
   "id": "4e519f7c",
   "metadata": {},
   "outputs": [],
   "source": []
  },
  {
   "cell_type": "code",
   "execution_count": 70,
   "id": "a00c0e9a",
   "metadata": {},
   "outputs": [
    {
     "data": {
      "text/html": [
       "<div>\n",
       "<style scoped>\n",
       "    .dataframe tbody tr th:only-of-type {\n",
       "        vertical-align: middle;\n",
       "    }\n",
       "\n",
       "    .dataframe tbody tr th {\n",
       "        vertical-align: top;\n",
       "    }\n",
       "\n",
       "    .dataframe thead th {\n",
       "        text-align: right;\n",
       "    }\n",
       "</style>\n",
       "<table border=\"1\" class=\"dataframe\">\n",
       "  <thead>\n",
       "    <tr style=\"text-align: right;\">\n",
       "      <th></th>\n",
       "      <th>request_method</th>\n",
       "      <th>status_code</th>\n",
       "      <th>proba_status_given_req_meth</th>\n",
       "    </tr>\n",
       "  </thead>\n",
       "  <tbody>\n",
       "    <tr>\n",
       "      <th>64</th>\n",
       "      <td>/api/v1/sales?page=133</td>\n",
       "      <td>499</td>\n",
       "      <td>0.016667</td>\n",
       "    </tr>\n",
       "    <tr>\n",
       "      <th>43</th>\n",
       "      <td>/api/v1/sales?page=115</td>\n",
       "      <td>499</td>\n",
       "      <td>0.016393</td>\n",
       "    </tr>\n",
       "    <tr>\n",
       "      <th>196</th>\n",
       "      <td>/api/v1/sales?page=80</td>\n",
       "      <td>499</td>\n",
       "      <td>0.016129</td>\n",
       "    </tr>\n",
       "    <tr>\n",
       "      <th>181</th>\n",
       "      <td>/api/v1/sales?page=69</td>\n",
       "      <td>499</td>\n",
       "      <td>0.015625</td>\n",
       "    </tr>\n",
       "    <tr>\n",
       "      <th>156</th>\n",
       "      <td>/api/v1/sales?page=47</td>\n",
       "      <td>499</td>\n",
       "      <td>0.014925</td>\n",
       "    </tr>\n",
       "    <tr>\n",
       "      <th>135</th>\n",
       "      <td>/api/v1/sales?page=29</td>\n",
       "      <td>499</td>\n",
       "      <td>0.014493</td>\n",
       "    </tr>\n",
       "    <tr>\n",
       "      <th>130</th>\n",
       "      <td>/api/v1/sales?page=25</td>\n",
       "      <td>499</td>\n",
       "      <td>0.014085</td>\n",
       "    </tr>\n",
       "    <tr>\n",
       "      <th>125</th>\n",
       "      <td>/api/v1/sales?page=21</td>\n",
       "      <td>499</td>\n",
       "      <td>0.013699</td>\n",
       "    </tr>\n",
       "    <tr>\n",
       "      <th>194</th>\n",
       "      <td>/api/v1/sales?page=8</td>\n",
       "      <td>499</td>\n",
       "      <td>0.013158</td>\n",
       "    </tr>\n",
       "    <tr>\n",
       "      <th>10</th>\n",
       "      <td>/api/v1/items</td>\n",
       "      <td>499</td>\n",
       "      <td>0.008621</td>\n",
       "    </tr>\n",
       "    <tr>\n",
       "      <th>122</th>\n",
       "      <td>/api/v1/sales?page=2</td>\n",
       "      <td>499</td>\n",
       "      <td>0.004231</td>\n",
       "    </tr>\n",
       "  </tbody>\n",
       "</table>\n",
       "</div>"
      ],
      "text/plain": [
       "             request_method status_code  proba_status_given_req_meth\n",
       "64   /api/v1/sales?page=133         499                     0.016667\n",
       "43   /api/v1/sales?page=115         499                     0.016393\n",
       "196   /api/v1/sales?page=80         499                     0.016129\n",
       "181   /api/v1/sales?page=69         499                     0.015625\n",
       "156   /api/v1/sales?page=47         499                     0.014925\n",
       "135   /api/v1/sales?page=29         499                     0.014493\n",
       "130   /api/v1/sales?page=25         499                     0.014085\n",
       "125   /api/v1/sales?page=21         499                     0.013699\n",
       "194    /api/v1/sales?page=8         499                     0.013158\n",
       "10            /api/v1/items         499                     0.008621\n",
       "122    /api/v1/sales?page=2         499                     0.004231"
      ]
     },
     "execution_count": 70,
     "metadata": {},
     "output_type": "execute_result"
    }
   ],
   "source": [
    "# what about the statuses that are not successful in status_given_req_meth df ?\n",
    "\n",
    "status_given_req_meth[status_given_req_meth['status_code'] != '200'].sort_values(\n",
    "                                by = 'proba_status_given_req_meth', ascending = False)"
   ]
  },
  {
   "cell_type": "markdown",
   "id": "764c6680",
   "metadata": {},
   "source": [
    "Interesting that one of the most frequent 'request_method' entries ('v1/items') is also a 499 code, about 0.4pc of the time. Same for the most frequent 'request_method' of 'page=2' : it's also a 499 status code, about 0.9pc of the time.\n",
    "\n",
    "(\"The HTTP 499 status code, also known as a “client closed request,” is a special case of the 502 Bad Gateway Error. It indicates that the client has closed the connection while the server is still processing the request.\" — Kinsta.com)"
   ]
  },
  {
   "cell_type": "code",
   "execution_count": 76,
   "id": "b9f1f809",
   "metadata": {},
   "outputs": [
    {
     "data": {
      "text/html": [
       "<div>\n",
       "<style scoped>\n",
       "    .dataframe tbody tr th:only-of-type {\n",
       "        vertical-align: middle;\n",
       "    }\n",
       "\n",
       "    .dataframe tbody tr th {\n",
       "        vertical-align: top;\n",
       "    }\n",
       "\n",
       "    .dataframe thead th {\n",
       "        text-align: right;\n",
       "    }\n",
       "</style>\n",
       "<table border=\"1\" class=\"dataframe\">\n",
       "  <thead>\n",
       "    <tr style=\"text-align: right;\">\n",
       "      <th></th>\n",
       "      <th>ip</th>\n",
       "      <th>timestamp</th>\n",
       "      <th>request_method</th>\n",
       "      <th>http_version</th>\n",
       "      <th>status_code</th>\n",
       "      <th>size</th>\n",
       "      <th>user_agent</th>\n",
       "    </tr>\n",
       "  </thead>\n",
       "  <tbody>\n",
       "    <tr>\n",
       "      <th>3824</th>\n",
       "      <td>97.105.19.58</td>\n",
       "      <td>1</td>\n",
       "      <td>/api/v1/items</td>\n",
       "      <td>HTTP/1.1</td>\n",
       "      <td>200</td>\n",
       "      <td>3561</td>\n",
       "      <td></td>\n",
       "    </tr>\n",
       "  </tbody>\n",
       "</table>\n",
       "</div>"
      ],
      "text/plain": [
       "                ip timestamp request_method http_version status_code  size  \\\n",
       "3824  97.105.19.58         1  /api/v1/items     HTTP/1.1         200  3561   \n",
       "\n",
       "     user_agent  \n",
       "3824             "
      ]
     },
     "execution_count": 76,
     "metadata": {},
     "output_type": "execute_result"
    }
   ],
   "source": [
    "# why are these request methods getting 499 codes ?\n",
    "\n",
    "df[df['request_method'] == '/api/v1/items'].sample()"
   ]
  },
  {
   "cell_type": "code",
   "execution_count": 75,
   "id": "8bfb919e",
   "metadata": {},
   "outputs": [
    {
     "data": {
      "text/html": [
       "<div>\n",
       "<style scoped>\n",
       "    .dataframe tbody tr th:only-of-type {\n",
       "        vertical-align: middle;\n",
       "    }\n",
       "\n",
       "    .dataframe tbody tr th {\n",
       "        vertical-align: top;\n",
       "    }\n",
       "\n",
       "    .dataframe thead th {\n",
       "        text-align: right;\n",
       "    }\n",
       "</style>\n",
       "<table border=\"1\" class=\"dataframe\">\n",
       "  <thead>\n",
       "    <tr style=\"text-align: right;\">\n",
       "      <th></th>\n",
       "      <th>ip</th>\n",
       "      <th>timestamp</th>\n",
       "      <th>request_method</th>\n",
       "      <th>http_version</th>\n",
       "      <th>status_code</th>\n",
       "      <th>size</th>\n",
       "      <th>user_agent</th>\n",
       "    </tr>\n",
       "  </thead>\n",
       "  <tbody>\n",
       "    <tr>\n",
       "      <th>10300</th>\n",
       "      <td>97.105.19.58</td>\n",
       "      <td>1</td>\n",
       "      <td>/api/v1/sales?page=2</td>\n",
       "      <td>HTTP/1.1</td>\n",
       "      <td>200</td>\n",
       "      <td>494819</td>\n",
       "      <td></td>\n",
       "    </tr>\n",
       "  </tbody>\n",
       "</table>\n",
       "</div>"
      ],
      "text/plain": [
       "                 ip timestamp        request_method http_version status_code  \\\n",
       "10300  97.105.19.58         1  /api/v1/sales?page=2     HTTP/1.1         200   \n",
       "\n",
       "         size user_agent  \n",
       "10300  494819             "
      ]
     },
     "execution_count": 75,
     "metadata": {},
     "output_type": "execute_result"
    }
   ],
   "source": [
    "# why are these request methods getting 499 codes ?\n",
    "\n",
    "df[df['request_method'] == '/api/v1/sales?page=2'].sample()"
   ]
  },
  {
   "cell_type": "markdown",
   "id": "6c109eed",
   "metadata": {},
   "source": [
    "Based on available data, it's unclear why they're getting 499 codes."
   ]
  },
  {
   "cell_type": "code",
   "execution_count": 77,
   "id": "e11a74a4",
   "metadata": {},
   "outputs": [
    {
     "data": {
      "text/html": [
       "<div>\n",
       "<style scoped>\n",
       "    .dataframe tbody tr th:only-of-type {\n",
       "        vertical-align: middle;\n",
       "    }\n",
       "\n",
       "    .dataframe tbody tr th {\n",
       "        vertical-align: top;\n",
       "    }\n",
       "\n",
       "    .dataframe thead th {\n",
       "        text-align: right;\n",
       "    }\n",
       "</style>\n",
       "<table border=\"1\" class=\"dataframe\">\n",
       "  <thead>\n",
       "    <tr style=\"text-align: right;\">\n",
       "      <th></th>\n",
       "      <th>request_method</th>\n",
       "      <th>status_code</th>\n",
       "      <th>proba_status_given_req_meth</th>\n",
       "    </tr>\n",
       "  </thead>\n",
       "  <tbody>\n",
       "    <tr>\n",
       "      <th>9</th>\n",
       "      <td>/api/v1/items</td>\n",
       "      <td>200</td>\n",
       "      <td>0.991379</td>\n",
       "    </tr>\n",
       "    <tr>\n",
       "      <th>10</th>\n",
       "      <td>/api/v1/items</td>\n",
       "      <td>499</td>\n",
       "      <td>0.008621</td>\n",
       "    </tr>\n",
       "    <tr>\n",
       "      <th>42</th>\n",
       "      <td>/api/v1/sales?page=115</td>\n",
       "      <td>200</td>\n",
       "      <td>0.983607</td>\n",
       "    </tr>\n",
       "    <tr>\n",
       "      <th>43</th>\n",
       "      <td>/api/v1/sales?page=115</td>\n",
       "      <td>499</td>\n",
       "      <td>0.016393</td>\n",
       "    </tr>\n",
       "    <tr>\n",
       "      <th>63</th>\n",
       "      <td>/api/v1/sales?page=133</td>\n",
       "      <td>200</td>\n",
       "      <td>0.983333</td>\n",
       "    </tr>\n",
       "    <tr>\n",
       "      <th>64</th>\n",
       "      <td>/api/v1/sales?page=133</td>\n",
       "      <td>499</td>\n",
       "      <td>0.016667</td>\n",
       "    </tr>\n",
       "    <tr>\n",
       "      <th>121</th>\n",
       "      <td>/api/v1/sales?page=2</td>\n",
       "      <td>200</td>\n",
       "      <td>0.995769</td>\n",
       "    </tr>\n",
       "    <tr>\n",
       "      <th>122</th>\n",
       "      <td>/api/v1/sales?page=2</td>\n",
       "      <td>499</td>\n",
       "      <td>0.004231</td>\n",
       "    </tr>\n",
       "    <tr>\n",
       "      <th>124</th>\n",
       "      <td>/api/v1/sales?page=21</td>\n",
       "      <td>200</td>\n",
       "      <td>0.986301</td>\n",
       "    </tr>\n",
       "    <tr>\n",
       "      <th>125</th>\n",
       "      <td>/api/v1/sales?page=21</td>\n",
       "      <td>499</td>\n",
       "      <td>0.013699</td>\n",
       "    </tr>\n",
       "    <tr>\n",
       "      <th>129</th>\n",
       "      <td>/api/v1/sales?page=25</td>\n",
       "      <td>200</td>\n",
       "      <td>0.985915</td>\n",
       "    </tr>\n",
       "    <tr>\n",
       "      <th>130</th>\n",
       "      <td>/api/v1/sales?page=25</td>\n",
       "      <td>499</td>\n",
       "      <td>0.014085</td>\n",
       "    </tr>\n",
       "    <tr>\n",
       "      <th>134</th>\n",
       "      <td>/api/v1/sales?page=29</td>\n",
       "      <td>200</td>\n",
       "      <td>0.985507</td>\n",
       "    </tr>\n",
       "    <tr>\n",
       "      <th>135</th>\n",
       "      <td>/api/v1/sales?page=29</td>\n",
       "      <td>499</td>\n",
       "      <td>0.014493</td>\n",
       "    </tr>\n",
       "    <tr>\n",
       "      <th>155</th>\n",
       "      <td>/api/v1/sales?page=47</td>\n",
       "      <td>200</td>\n",
       "      <td>0.985075</td>\n",
       "    </tr>\n",
       "    <tr>\n",
       "      <th>156</th>\n",
       "      <td>/api/v1/sales?page=47</td>\n",
       "      <td>499</td>\n",
       "      <td>0.014925</td>\n",
       "    </tr>\n",
       "    <tr>\n",
       "      <th>180</th>\n",
       "      <td>/api/v1/sales?page=69</td>\n",
       "      <td>200</td>\n",
       "      <td>0.984375</td>\n",
       "    </tr>\n",
       "    <tr>\n",
       "      <th>181</th>\n",
       "      <td>/api/v1/sales?page=69</td>\n",
       "      <td>499</td>\n",
       "      <td>0.015625</td>\n",
       "    </tr>\n",
       "    <tr>\n",
       "      <th>193</th>\n",
       "      <td>/api/v1/sales?page=8</td>\n",
       "      <td>200</td>\n",
       "      <td>0.986842</td>\n",
       "    </tr>\n",
       "    <tr>\n",
       "      <th>194</th>\n",
       "      <td>/api/v1/sales?page=8</td>\n",
       "      <td>499</td>\n",
       "      <td>0.013158</td>\n",
       "    </tr>\n",
       "    <tr>\n",
       "      <th>195</th>\n",
       "      <td>/api/v1/sales?page=80</td>\n",
       "      <td>200</td>\n",
       "      <td>0.983871</td>\n",
       "    </tr>\n",
       "    <tr>\n",
       "      <th>196</th>\n",
       "      <td>/api/v1/sales?page=80</td>\n",
       "      <td>499</td>\n",
       "      <td>0.016129</td>\n",
       "    </tr>\n",
       "  </tbody>\n",
       "</table>\n",
       "</div>"
      ],
      "text/plain": [
       "             request_method status_code  proba_status_given_req_meth\n",
       "9             /api/v1/items         200                     0.991379\n",
       "10            /api/v1/items         499                     0.008621\n",
       "42   /api/v1/sales?page=115         200                     0.983607\n",
       "43   /api/v1/sales?page=115         499                     0.016393\n",
       "63   /api/v1/sales?page=133         200                     0.983333\n",
       "64   /api/v1/sales?page=133         499                     0.016667\n",
       "121    /api/v1/sales?page=2         200                     0.995769\n",
       "122    /api/v1/sales?page=2         499                     0.004231\n",
       "124   /api/v1/sales?page=21         200                     0.986301\n",
       "125   /api/v1/sales?page=21         499                     0.013699\n",
       "129   /api/v1/sales?page=25         200                     0.985915\n",
       "130   /api/v1/sales?page=25         499                     0.014085\n",
       "134   /api/v1/sales?page=29         200                     0.985507\n",
       "135   /api/v1/sales?page=29         499                     0.014493\n",
       "155   /api/v1/sales?page=47         200                     0.985075\n",
       "156   /api/v1/sales?page=47         499                     0.014925\n",
       "180   /api/v1/sales?page=69         200                     0.984375\n",
       "181   /api/v1/sales?page=69         499                     0.015625\n",
       "193    /api/v1/sales?page=8         200                     0.986842\n",
       "194    /api/v1/sales?page=8         499                     0.013158\n",
       "195   /api/v1/sales?page=80         200                     0.983871\n",
       "196   /api/v1/sales?page=80         499                     0.016129"
      ]
     },
     "execution_count": 77,
     "metadata": {},
     "output_type": "execute_result"
    }
   ],
   "source": [
    "# likelyhood that the status of a given request method is less than 100% \n",
    "\n",
    "status_given_req_meth[status_given_req_meth['proba_status_given_req_meth'] < 1]"
   ]
  },
  {
   "cell_type": "markdown",
   "id": "afe68c07",
   "metadata": {},
   "source": [
    "Overall, the request methods are successful the majority of the time (+98pc in all cases)."
   ]
  },
  {
   "cell_type": "markdown",
   "id": "00af3139",
   "metadata": {},
   "source": [
    "### Doing the same for 'size'"
   ]
  },
  {
   "cell_type": "code",
   "execution_count": 79,
   "id": "3e9715b6",
   "metadata": {},
   "outputs": [
    {
     "data": {
      "text/html": [
       "<div>\n",
       "<style scoped>\n",
       "    .dataframe tbody tr th:only-of-type {\n",
       "        vertical-align: middle;\n",
       "    }\n",
       "\n",
       "    .dataframe tbody tr th {\n",
       "        vertical-align: top;\n",
       "    }\n",
       "\n",
       "    .dataframe thead th {\n",
       "        text-align: right;\n",
       "    }\n",
       "</style>\n",
       "<table border=\"1\" class=\"dataframe\">\n",
       "  <thead>\n",
       "    <tr style=\"text-align: right;\">\n",
       "      <th></th>\n",
       "      <th>size</th>\n",
       "      <th>status_code</th>\n",
       "      <th>proba_status_given_size</th>\n",
       "    </tr>\n",
       "  </thead>\n",
       "  <tbody>\n",
       "    <tr>\n",
       "      <th>157</th>\n",
       "      <td>511980</td>\n",
       "      <td>200</td>\n",
       "      <td>1.0</td>\n",
       "    </tr>\n",
       "    <tr>\n",
       "      <th>11</th>\n",
       "      <td>278377</td>\n",
       "      <td>200</td>\n",
       "      <td>1.0</td>\n",
       "    </tr>\n",
       "    <tr>\n",
       "      <th>181</th>\n",
       "      <td>512764</td>\n",
       "      <td>200</td>\n",
       "      <td>1.0</td>\n",
       "    </tr>\n",
       "    <tr>\n",
       "      <th>133</th>\n",
       "      <td>511340</td>\n",
       "      <td>200</td>\n",
       "      <td>1.0</td>\n",
       "    </tr>\n",
       "    <tr>\n",
       "      <th>123</th>\n",
       "      <td>511076</td>\n",
       "      <td>200</td>\n",
       "      <td>1.0</td>\n",
       "    </tr>\n",
       "  </tbody>\n",
       "</table>\n",
       "</div>"
      ],
      "text/plain": [
       "       size status_code  proba_status_given_size\n",
       "157  511980         200                      1.0\n",
       "11   278377         200                      1.0\n",
       "181  512764         200                      1.0\n",
       "133  511340         200                      1.0\n",
       "123  511076         200                      1.0"
      ]
     },
     "execution_count": 79,
     "metadata": {},
     "output_type": "execute_result"
    }
   ],
   "source": [
    "# look at size, status and the probability that it will the that status\n",
    "\n",
    "status_given_size = (df.groupby('size')\n",
    "                        .status_code.value_counts(normalize = True)\n",
    "                        .rename('proba_status_given_size')\n",
    "                        .reset_index())\n",
    "\n",
    "status_given_size.sample(5)"
   ]
  },
  {
   "cell_type": "code",
   "execution_count": 80,
   "id": "51f2e108",
   "metadata": {},
   "outputs": [
    {
     "data": {
      "text/html": [
       "<div>\n",
       "<style scoped>\n",
       "    .dataframe tbody tr th:only-of-type {\n",
       "        vertical-align: middle;\n",
       "    }\n",
       "\n",
       "    .dataframe tbody tr th {\n",
       "        vertical-align: top;\n",
       "    }\n",
       "\n",
       "    .dataframe thead th {\n",
       "        text-align: right;\n",
       "    }\n",
       "</style>\n",
       "<table border=\"1\" class=\"dataframe\">\n",
       "  <thead>\n",
       "    <tr style=\"text-align: right;\">\n",
       "      <th></th>\n",
       "      <th>size</th>\n",
       "      <th>status_code</th>\n",
       "      <th>proba_status_given_size</th>\n",
       "    </tr>\n",
       "  </thead>\n",
       "  <tbody>\n",
       "    <tr>\n",
       "      <th>0</th>\n",
       "      <td>0</td>\n",
       "      <td>499</td>\n",
       "      <td>1.0</td>\n",
       "    </tr>\n",
       "  </tbody>\n",
       "</table>\n",
       "</div>"
      ],
      "text/plain": [
       "   size status_code  proba_status_given_size\n",
       "0     0         499                      1.0"
      ]
     },
     "execution_count": 80,
     "metadata": {},
     "output_type": "execute_result"
    }
   ],
   "source": [
    "# what about the statuses that are not successful in status_given_size df ?\n",
    "\n",
    "status_given_size[status_given_size['status_code'] != '200'].sort_values(\n",
    "                                by = 'proba_status_given_size', ascending = False)"
   ]
  },
  {
   "cell_type": "markdown",
   "id": "c09086da",
   "metadata": {},
   "source": [
    "The only size that got a 499 code had a size of 0."
   ]
  },
  {
   "cell_type": "code",
   "execution_count": 86,
   "id": "6972f615",
   "metadata": {},
   "outputs": [
    {
     "data": {
      "text/html": [
       "<div>\n",
       "<style scoped>\n",
       "    .dataframe tbody tr th:only-of-type {\n",
       "        vertical-align: middle;\n",
       "    }\n",
       "\n",
       "    .dataframe tbody tr th {\n",
       "        vertical-align: top;\n",
       "    }\n",
       "\n",
       "    .dataframe thead th {\n",
       "        text-align: right;\n",
       "    }\n",
       "</style>\n",
       "<table border=\"1\" class=\"dataframe\">\n",
       "  <thead>\n",
       "    <tr style=\"text-align: right;\">\n",
       "      <th></th>\n",
       "      <th>ip</th>\n",
       "      <th>timestamp</th>\n",
       "      <th>request_method</th>\n",
       "      <th>http_version</th>\n",
       "      <th>status_code</th>\n",
       "      <th>size</th>\n",
       "      <th>user_agent</th>\n",
       "    </tr>\n",
       "  </thead>\n",
       "  <tbody>\n",
       "  </tbody>\n",
       "</table>\n",
       "</div>"
      ],
      "text/plain": [
       "Empty DataFrame\n",
       "Columns: [ip, timestamp, request_method, http_version, status_code, size, user_agent]\n",
       "Index: []"
      ]
     },
     "execution_count": 86,
     "metadata": {},
     "output_type": "execute_result"
    }
   ],
   "source": [
    "# why does this size getting 499 codes ?\n",
    "\n",
    "df[df['size'] == '0'].head()"
   ]
  },
  {
   "cell_type": "markdown",
   "id": "7afe781e",
   "metadata": {},
   "source": [
    "Nothing."
   ]
  },
  {
   "cell_type": "code",
   "execution_count": 87,
   "id": "bd25760a",
   "metadata": {},
   "outputs": [
    {
     "data": {
      "text/html": [
       "<div>\n",
       "<style scoped>\n",
       "    .dataframe tbody tr th:only-of-type {\n",
       "        vertical-align: middle;\n",
       "    }\n",
       "\n",
       "    .dataframe tbody tr th {\n",
       "        vertical-align: top;\n",
       "    }\n",
       "\n",
       "    .dataframe thead th {\n",
       "        text-align: right;\n",
       "    }\n",
       "</style>\n",
       "<table border=\"1\" class=\"dataframe\">\n",
       "  <thead>\n",
       "    <tr style=\"text-align: right;\">\n",
       "      <th></th>\n",
       "      <th>size</th>\n",
       "      <th>status_code</th>\n",
       "      <th>proba_status_given_size</th>\n",
       "    </tr>\n",
       "  </thead>\n",
       "  <tbody>\n",
       "  </tbody>\n",
       "</table>\n",
       "</div>"
      ],
      "text/plain": [
       "Empty DataFrame\n",
       "Columns: [size, status_code, proba_status_given_size]\n",
       "Index: []"
      ]
     },
     "execution_count": 87,
     "metadata": {},
     "output_type": "execute_result"
    }
   ],
   "source": [
    "# likelyhood that the status of a given request method is less than 100% \n",
    "\n",
    "status_given_size[status_given_size['proba_status_given_size'] < 1]"
   ]
  },
  {
   "cell_type": "code",
   "execution_count": null,
   "id": "676a5997",
   "metadata": {},
   "outputs": [],
   "source": []
  }
 ],
 "metadata": {
  "kernelspec": {
   "display_name": "Python 3 (ipykernel)",
   "language": "python",
   "name": "python3"
  },
  "language_info": {
   "codemirror_mode": {
    "name": "ipython",
    "version": 3
   },
   "file_extension": ".py",
   "mimetype": "text/x-python",
   "name": "python",
   "nbconvert_exporter": "python",
   "pygments_lexer": "ipython3",
   "version": "3.9.13"
  }
 },
 "nbformat": 4,
 "nbformat_minor": 5
}
