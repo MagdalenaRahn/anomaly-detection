{
 "cells": [
  {
   "cell_type": "markdown",
   "id": "21c1181b",
   "metadata": {},
   "source": [
    "## Anomaly Detection Lesson  \n",
    "## Continuous variable probabilistic methods for identifying outliers\n",
    "\n",
    "16 February 2023\n",
    "\n",
    "異常和外露層的比較。\n",
    "\n",
    "_Statistical Methods_  \n",
    "Number of standard deviations from the mean -- how many and why, for this observation ?   \n",
    "Tine series data -- deviation from historic moving average.  \n",
    "Mean, median, mode.  \n",
    "These can be difficult with noisy data, as it is already not very consistent.  \n",
    "\n",
    "_Clustering_  \n",
    "K-means : abnormally small clusters isolated from rest of data may be anomalies.   \n",
    "DBSCAN : density-based clustering that highlights datapoints not part of the majority of the clusters.  "
   ]
  },
  {
   "cell_type": "code",
   "execution_count": 1,
   "id": "af204ce6",
   "metadata": {},
   "outputs": [],
   "source": [
    "import numpy as np\n",
    "import pandas as pd\n",
    "import seaborn as sns\n",
    "import itertools\n",
    "from pydataset import data\n",
    "\n",
    "import matplotlib.pyplot as plt\n",
    "%matplotlib inline"
   ]
  },
  {
   "cell_type": "code",
   "execution_count": 2,
   "id": "645f1c17",
   "metadata": {},
   "outputs": [],
   "source": [
    "url = \"https://gist.githubusercontent.com/ryanorsinger/6218f5731f3df7cb4771ff3879fdeaa3/raw/88cb6bed276e2236c33df011bd753b6c73832c30/quartet.csv\""
   ]
  },
  {
   "cell_type": "code",
   "execution_count": 3,
   "id": "fb4f4ba2",
   "metadata": {},
   "outputs": [
    {
     "data": {
      "text/html": [
       "<div>\n",
       "<style scoped>\n",
       "    .dataframe tbody tr th:only-of-type {\n",
       "        vertical-align: middle;\n",
       "    }\n",
       "\n",
       "    .dataframe tbody tr th {\n",
       "        vertical-align: top;\n",
       "    }\n",
       "\n",
       "    .dataframe thead th {\n",
       "        text-align: right;\n",
       "    }\n",
       "</style>\n",
       "<table border=\"1\" class=\"dataframe\">\n",
       "  <thead>\n",
       "    <tr style=\"text-align: right;\">\n",
       "      <th></th>\n",
       "      <th>id</th>\n",
       "      <th>dataset</th>\n",
       "      <th>x</th>\n",
       "      <th>y</th>\n",
       "    </tr>\n",
       "  </thead>\n",
       "  <tbody>\n",
       "    <tr>\n",
       "      <th>27</th>\n",
       "      <td>27</td>\n",
       "      <td>III</td>\n",
       "      <td>14.0</td>\n",
       "      <td>8.84</td>\n",
       "    </tr>\n",
       "    <tr>\n",
       "      <th>8</th>\n",
       "      <td>8</td>\n",
       "      <td>I</td>\n",
       "      <td>12.0</td>\n",
       "      <td>10.84</td>\n",
       "    </tr>\n",
       "    <tr>\n",
       "      <th>36</th>\n",
       "      <td>36</td>\n",
       "      <td>IV</td>\n",
       "      <td>8.0</td>\n",
       "      <td>8.84</td>\n",
       "    </tr>\n",
       "  </tbody>\n",
       "</table>\n",
       "</div>"
      ],
      "text/plain": [
       "    id dataset     x      y\n",
       "27  27     III  14.0   8.84\n",
       "8    8       I  12.0  10.84\n",
       "36  36      IV   8.0   8.84"
      ]
     },
     "execution_count": 3,
     "metadata": {},
     "output_type": "execute_result"
    }
   ],
   "source": [
    "df = pd.read_csv(url)\n",
    "\n",
    "df.sample(3)"
   ]
  },
  {
   "cell_type": "code",
   "execution_count": 10,
   "id": "c4743162",
   "metadata": {},
   "outputs": [
    {
     "data": {
      "text/html": [
       "<div>\n",
       "<style scoped>\n",
       "    .dataframe tbody tr th:only-of-type {\n",
       "        vertical-align: middle;\n",
       "    }\n",
       "\n",
       "    .dataframe tbody tr th {\n",
       "        vertical-align: top;\n",
       "    }\n",
       "\n",
       "    .dataframe thead tr th {\n",
       "        text-align: left;\n",
       "    }\n",
       "\n",
       "    .dataframe thead tr:last-of-type th {\n",
       "        text-align: right;\n",
       "    }\n",
       "</style>\n",
       "<table border=\"1\" class=\"dataframe\">\n",
       "  <thead>\n",
       "    <tr>\n",
       "      <th></th>\n",
       "      <th colspan=\"8\" halign=\"left\">id</th>\n",
       "      <th colspan=\"5\" halign=\"left\">x</th>\n",
       "      <th colspan=\"8\" halign=\"left\">y</th>\n",
       "    </tr>\n",
       "    <tr>\n",
       "      <th></th>\n",
       "      <th>count</th>\n",
       "      <th>mean</th>\n",
       "      <th>std</th>\n",
       "      <th>min</th>\n",
       "      <th>25%</th>\n",
       "      <th>50%</th>\n",
       "      <th>75%</th>\n",
       "      <th>max</th>\n",
       "      <th>count</th>\n",
       "      <th>mean</th>\n",
       "      <th>...</th>\n",
       "      <th>75%</th>\n",
       "      <th>max</th>\n",
       "      <th>count</th>\n",
       "      <th>mean</th>\n",
       "      <th>std</th>\n",
       "      <th>min</th>\n",
       "      <th>25%</th>\n",
       "      <th>50%</th>\n",
       "      <th>75%</th>\n",
       "      <th>max</th>\n",
       "    </tr>\n",
       "    <tr>\n",
       "      <th>dataset</th>\n",
       "      <th></th>\n",
       "      <th></th>\n",
       "      <th></th>\n",
       "      <th></th>\n",
       "      <th></th>\n",
       "      <th></th>\n",
       "      <th></th>\n",
       "      <th></th>\n",
       "      <th></th>\n",
       "      <th></th>\n",
       "      <th></th>\n",
       "      <th></th>\n",
       "      <th></th>\n",
       "      <th></th>\n",
       "      <th></th>\n",
       "      <th></th>\n",
       "      <th></th>\n",
       "      <th></th>\n",
       "      <th></th>\n",
       "      <th></th>\n",
       "      <th></th>\n",
       "    </tr>\n",
       "  </thead>\n",
       "  <tbody>\n",
       "    <tr>\n",
       "      <th>I</th>\n",
       "      <td>11.0</td>\n",
       "      <td>5.0</td>\n",
       "      <td>3.316625</td>\n",
       "      <td>0.0</td>\n",
       "      <td>2.5</td>\n",
       "      <td>5.0</td>\n",
       "      <td>7.5</td>\n",
       "      <td>10.0</td>\n",
       "      <td>11.0</td>\n",
       "      <td>9.0</td>\n",
       "      <td>...</td>\n",
       "      <td>11.5</td>\n",
       "      <td>14.0</td>\n",
       "      <td>11.0</td>\n",
       "      <td>7.500909</td>\n",
       "      <td>2.031568</td>\n",
       "      <td>4.26</td>\n",
       "      <td>6.315</td>\n",
       "      <td>7.58</td>\n",
       "      <td>8.57</td>\n",
       "      <td>10.84</td>\n",
       "    </tr>\n",
       "    <tr>\n",
       "      <th>II</th>\n",
       "      <td>11.0</td>\n",
       "      <td>16.0</td>\n",
       "      <td>3.316625</td>\n",
       "      <td>11.0</td>\n",
       "      <td>13.5</td>\n",
       "      <td>16.0</td>\n",
       "      <td>18.5</td>\n",
       "      <td>21.0</td>\n",
       "      <td>11.0</td>\n",
       "      <td>9.0</td>\n",
       "      <td>...</td>\n",
       "      <td>11.5</td>\n",
       "      <td>14.0</td>\n",
       "      <td>11.0</td>\n",
       "      <td>7.500909</td>\n",
       "      <td>2.031657</td>\n",
       "      <td>3.10</td>\n",
       "      <td>6.695</td>\n",
       "      <td>8.14</td>\n",
       "      <td>8.95</td>\n",
       "      <td>9.26</td>\n",
       "    </tr>\n",
       "    <tr>\n",
       "      <th>III</th>\n",
       "      <td>11.0</td>\n",
       "      <td>27.0</td>\n",
       "      <td>3.316625</td>\n",
       "      <td>22.0</td>\n",
       "      <td>24.5</td>\n",
       "      <td>27.0</td>\n",
       "      <td>29.5</td>\n",
       "      <td>32.0</td>\n",
       "      <td>11.0</td>\n",
       "      <td>9.0</td>\n",
       "      <td>...</td>\n",
       "      <td>11.5</td>\n",
       "      <td>14.0</td>\n",
       "      <td>11.0</td>\n",
       "      <td>7.500000</td>\n",
       "      <td>2.030424</td>\n",
       "      <td>5.39</td>\n",
       "      <td>6.250</td>\n",
       "      <td>7.11</td>\n",
       "      <td>7.98</td>\n",
       "      <td>12.74</td>\n",
       "    </tr>\n",
       "    <tr>\n",
       "      <th>IV</th>\n",
       "      <td>11.0</td>\n",
       "      <td>38.0</td>\n",
       "      <td>3.316625</td>\n",
       "      <td>33.0</td>\n",
       "      <td>35.5</td>\n",
       "      <td>38.0</td>\n",
       "      <td>40.5</td>\n",
       "      <td>43.0</td>\n",
       "      <td>11.0</td>\n",
       "      <td>9.0</td>\n",
       "      <td>...</td>\n",
       "      <td>8.0</td>\n",
       "      <td>19.0</td>\n",
       "      <td>11.0</td>\n",
       "      <td>7.500909</td>\n",
       "      <td>2.030579</td>\n",
       "      <td>5.25</td>\n",
       "      <td>6.170</td>\n",
       "      <td>7.04</td>\n",
       "      <td>8.19</td>\n",
       "      <td>12.50</td>\n",
       "    </tr>\n",
       "  </tbody>\n",
       "</table>\n",
       "<p>4 rows × 24 columns</p>\n",
       "</div>"
      ],
      "text/plain": [
       "           id                                                   x       ...  \\\n",
       "        count  mean       std   min   25%   50%   75%   max count mean  ...   \n",
       "dataset                                                                 ...   \n",
       "I        11.0   5.0  3.316625   0.0   2.5   5.0   7.5  10.0  11.0  9.0  ...   \n",
       "II       11.0  16.0  3.316625  11.0  13.5  16.0  18.5  21.0  11.0  9.0  ...   \n",
       "III      11.0  27.0  3.316625  22.0  24.5  27.0  29.5  32.0  11.0  9.0  ...   \n",
       "IV       11.0  38.0  3.316625  33.0  35.5  38.0  40.5  43.0  11.0  9.0  ...   \n",
       "\n",
       "                        y                                                      \n",
       "          75%   max count      mean       std   min    25%   50%   75%    max  \n",
       "dataset                                                                        \n",
       "I        11.5  14.0  11.0  7.500909  2.031568  4.26  6.315  7.58  8.57  10.84  \n",
       "II       11.5  14.0  11.0  7.500909  2.031657  3.10  6.695  8.14  8.95   9.26  \n",
       "III      11.5  14.0  11.0  7.500000  2.030424  5.39  6.250  7.11  7.98  12.74  \n",
       "IV        8.0  19.0  11.0  7.500909  2.030579  5.25  6.170  7.04  8.19  12.50  \n",
       "\n",
       "[4 rows x 24 columns]"
      ]
     },
     "execution_count": 10,
     "metadata": {},
     "output_type": "execute_result"
    }
   ],
   "source": [
    "df.groupby('dataset').describe()"
   ]
  },
  {
   "cell_type": "code",
   "execution_count": 5,
   "id": "f72054c0",
   "metadata": {},
   "outputs": [],
   "source": [
    "mycols = list(itertools.product(['x','y'], ['50%', 'mean', 'max', 'std']))"
   ]
  },
  {
   "cell_type": "code",
   "execution_count": 6,
   "id": "3c6be929",
   "metadata": {},
   "outputs": [
    {
     "data": {
      "text/html": [
       "<div>\n",
       "<style scoped>\n",
       "    .dataframe tbody tr th:only-of-type {\n",
       "        vertical-align: middle;\n",
       "    }\n",
       "\n",
       "    .dataframe tbody tr th {\n",
       "        vertical-align: top;\n",
       "    }\n",
       "\n",
       "    .dataframe thead tr th {\n",
       "        text-align: left;\n",
       "    }\n",
       "\n",
       "    .dataframe thead tr:last-of-type th {\n",
       "        text-align: right;\n",
       "    }\n",
       "</style>\n",
       "<table border=\"1\" class=\"dataframe\">\n",
       "  <thead>\n",
       "    <tr>\n",
       "      <th></th>\n",
       "      <th colspan=\"4\" halign=\"left\">x</th>\n",
       "      <th colspan=\"4\" halign=\"left\">y</th>\n",
       "    </tr>\n",
       "    <tr>\n",
       "      <th></th>\n",
       "      <th>50%</th>\n",
       "      <th>mean</th>\n",
       "      <th>max</th>\n",
       "      <th>std</th>\n",
       "      <th>50%</th>\n",
       "      <th>mean</th>\n",
       "      <th>max</th>\n",
       "      <th>std</th>\n",
       "    </tr>\n",
       "    <tr>\n",
       "      <th>dataset</th>\n",
       "      <th></th>\n",
       "      <th></th>\n",
       "      <th></th>\n",
       "      <th></th>\n",
       "      <th></th>\n",
       "      <th></th>\n",
       "      <th></th>\n",
       "      <th></th>\n",
       "    </tr>\n",
       "  </thead>\n",
       "  <tbody>\n",
       "    <tr>\n",
       "      <th>I</th>\n",
       "      <td>9.0</td>\n",
       "      <td>9.0</td>\n",
       "      <td>14.0</td>\n",
       "      <td>3.316625</td>\n",
       "      <td>7.58</td>\n",
       "      <td>7.500909</td>\n",
       "      <td>10.84</td>\n",
       "      <td>2.031568</td>\n",
       "    </tr>\n",
       "    <tr>\n",
       "      <th>II</th>\n",
       "      <td>9.0</td>\n",
       "      <td>9.0</td>\n",
       "      <td>14.0</td>\n",
       "      <td>3.316625</td>\n",
       "      <td>8.14</td>\n",
       "      <td>7.500909</td>\n",
       "      <td>9.26</td>\n",
       "      <td>2.031657</td>\n",
       "    </tr>\n",
       "    <tr>\n",
       "      <th>III</th>\n",
       "      <td>9.0</td>\n",
       "      <td>9.0</td>\n",
       "      <td>14.0</td>\n",
       "      <td>3.316625</td>\n",
       "      <td>7.11</td>\n",
       "      <td>7.500000</td>\n",
       "      <td>12.74</td>\n",
       "      <td>2.030424</td>\n",
       "    </tr>\n",
       "    <tr>\n",
       "      <th>IV</th>\n",
       "      <td>8.0</td>\n",
       "      <td>9.0</td>\n",
       "      <td>19.0</td>\n",
       "      <td>3.316625</td>\n",
       "      <td>7.04</td>\n",
       "      <td>7.500909</td>\n",
       "      <td>12.50</td>\n",
       "      <td>2.030579</td>\n",
       "    </tr>\n",
       "  </tbody>\n",
       "</table>\n",
       "</div>"
      ],
      "text/plain": [
       "           x                          y                           \n",
       "         50% mean   max       std   50%      mean    max       std\n",
       "dataset                                                           \n",
       "I        9.0  9.0  14.0  3.316625  7.58  7.500909  10.84  2.031568\n",
       "II       9.0  9.0  14.0  3.316625  8.14  7.500909   9.26  2.031657\n",
       "III      9.0  9.0  14.0  3.316625  7.11  7.500000  12.74  2.030424\n",
       "IV       8.0  9.0  19.0  3.316625  7.04  7.500909  12.50  2.030579"
      ]
     },
     "execution_count": 6,
     "metadata": {},
     "output_type": "execute_result"
    }
   ],
   "source": [
    "# looking at specific columns in mycols\n",
    "\n",
    "df.groupby('dataset').describe()[mycols]"
   ]
  },
  {
   "cell_type": "code",
   "execution_count": 13,
   "id": "690688e5",
   "metadata": {},
   "outputs": [
    {
     "data": {
      "text/plain": [
       "<seaborn.axisgrid.FacetGrid at 0x1469ec1c0>"
      ]
     },
     "execution_count": 13,
     "metadata": {},
     "output_type": "execute_result"
    },
    {
     "data": {
      "image/png": "[encoded data removed]",
      "text/plain": [
       "<Figure size 2000x500 with 4 Axes>"
      ]
     },
     "metadata": {},
     "output_type": "display_data"
    }
   ],
   "source": [
    "# plotting the dataset\n",
    "\n",
    "sns.relplot(x = 'x', y = 'y', col = 'dataset', data = df)"
   ]
  },
  {
   "cell_type": "markdown",
   "id": "ce4d899b",
   "metadata": {},
   "source": [
    "68 - 95 - 99.7 Rule (2.35pc - 13.5pc - 34pc)  \n",
    "\n",
    "Mistakes :   \n",
    "    Saying that a dp is an anomaly / falls too far outside of the mean and should be dropped, without exploring.   \n",
    "    Assuming normal distribution. The 68 - 95 - 99.7 rule assumes normal distribution.  \n",
    " \n",
    "\n",
    "Scores for identifying outliers :  \n",
    "    Z-score.  \n",
    "    ```np.random.normal``` : put in mean, std dev, sample size  \n",
    "    https://ds.codeup.com/anomaly-detection/continuous-probabilistic-methods/#the-empirical-rule-aka-three-sigma-rule-aka-6895997-rule  \n",
    "    If not normal, use IQR>  "
   ]
  },
  {
   "cell_type": "code",
   "execution_count": 18,
   "id": "6f7fc384",
   "metadata": {
    "collapsed": true
   },
   "outputs": [
    {
     "data": {
      "text/plain": [
       "array([ 8.49231712e+01,  2.68761240e+01,  1.71976788e+02, -8.36739604e+00,\n",
       "        8.87482277e+01,  2.73620815e+01,  1.09582411e+02, -3.32009046e+01,\n",
       "        7.51938565e+01,  1.13641681e+02,  2.60126002e+01, -9.34850929e+00,\n",
       "       -6.86909336e+00,  8.72999953e+01,  6.33517261e+01,  3.00100933e-01,\n",
       "        1.30919785e+01,  4.81932388e+01,  1.86450172e+01,  8.00730676e+01,\n",
       "        1.21748311e+02,  2.78104442e+01,  7.03480265e+01,  2.64510455e+01,\n",
       "        6.24883926e+01,  4.57258499e+01, -1.11729166e+01,  9.80488819e+00,\n",
       "        2.11082258e+01,  2.99268183e+01,  5.23784334e+00, -1.74409031e+00,\n",
       "       -4.24016624e+01,  9.15474124e+01,  6.25613184e+01,  1.46987483e+02,\n",
       "       -6.13997094e+00,  1.43089888e+01,  4.35991818e+01,  4.64857622e+01,\n",
       "        4.58512570e+01,  2.92679817e+01,  8.25521083e+01,  8.80517244e+01,\n",
       "        8.90131123e+01, -1.48058370e+01,  2.03398157e+01,  2.57813448e+01,\n",
       "        1.28153638e+02,  6.05700351e+01,  8.63640420e+01,  3.41308143e+01,\n",
       "        1.41344195e+01,  3.83336803e+01,  3.21966042e+01,  7.55195471e+01,\n",
       "       -9.61386955e+00,  3.11730076e+01,  2.12002601e+01,  1.98772277e+01,\n",
       "        5.93542712e+01,  3.26775818e+01,  2.18129276e+01,  2.60782921e+01,\n",
       "        3.29619544e+01,  1.28201542e+02, -1.26487582e+01,  1.02758106e+02,\n",
       "        7.03392404e+01, -3.65302760e+00,  1.22769015e+02,  5.25866959e+01,\n",
       "        1.29306434e+02, -9.39571975e+00,  6.16526742e+01,  1.13985087e+00,\n",
       "        4.22665723e+01, -6.05340660e+01,  1.05826153e+01,  6.83269356e+01,\n",
       "        7.51770590e+01,  4.36962633e+01,  5.08158498e+01,  2.95542722e+01,\n",
       "        2.22554958e+01,  4.59090554e+01,  6.49880781e+01,  1.10234083e+02,\n",
       "        6.67627499e+01, -1.56069271e+01,  5.19301980e+01,  1.07546600e+02,\n",
       "       -2.91185768e+01, -5.80985052e+01,  1.74254682e+01,  5.03724392e+00,\n",
       "        7.66035173e+01,  4.47241521e+01,  4.85614216e+01,  2.67148604e+01,\n",
       "       -8.20191934e+00,  7.84370923e+01,  6.09796405e+01,  9.40184532e+01,\n",
       "        1.55398465e+01,  1.97994424e+01,  1.01819906e+01,  5.89160047e+01,\n",
       "        8.93475324e+01,  6.32632357e+01,  1.81616526e+01,  6.30811725e+01,\n",
       "        6.97313234e+01,  3.88136134e+01,  6.53805574e+01,  1.23600034e+02,\n",
       "       -1.46607848e+01,  1.06328877e+02,  1.20165285e+02,  4.11633601e+01,\n",
       "       -2.63394744e+00,  1.68361792e+01,  5.35317787e+00,  5.91139021e+01,\n",
       "        1.09400283e+02,  6.46901967e+01,  4.49153402e+00,  1.14550413e+02,\n",
       "        1.48472013e+02, -1.40952250e+00, -1.71697339e+01, -1.86992937e+01,\n",
       "        3.41435464e+01,  9.57011562e+01,  7.01261910e+01,  7.38308507e+01,\n",
       "        2.68511185e+01,  4.93960352e+01,  3.29805916e+01,  5.64835309e+00,\n",
       "        5.20101611e+01, -1.31553470e+01,  2.33793536e+01,  2.37692184e+01,\n",
       "       -1.95011514e+01,  2.81247027e+01,  7.26577403e+01,  6.42792368e+01,\n",
       "        2.70305550e+01,  5.18061294e+00,  7.58823893e+01, -2.24927639e+01,\n",
       "        8.65018797e+01,  1.82189464e+01,  3.65900643e+01,  6.49490472e+01,\n",
       "        1.48670231e+02,  7.76328588e+01,  2.67737202e+01, -4.47440441e-02,\n",
       "        5.26935213e+01, -1.18213860e+01,  5.31923312e+01,  9.48533880e+01,\n",
       "        5.99805039e+01,  3.95808154e+01,  6.58230511e+01,  4.83934884e+01,\n",
       "        7.22355359e+01, -7.74374088e+00,  2.91592462e+01,  5.59627792e+01,\n",
       "        7.78811279e+01,  2.97378797e+01,  1.00233578e+02,  7.97040962e+01,\n",
       "       -4.11120047e+00,  8.07793282e+01,  5.03939399e+01,  7.48775353e+01,\n",
       "        8.17509471e+01,  9.42381234e+01, -9.48064007e-01,  3.82252498e+01,\n",
       "        4.86511528e+01,  7.86358863e+01,  1.32104423e+02,  1.57548980e+02,\n",
       "        6.47597558e+01,  5.05148655e+01,  6.07651090e+01,  4.75399107e+01,\n",
       "        6.53337399e+00,  9.32287260e+01,  2.80691295e+01,  5.45875533e+01,\n",
       "        9.19455521e+01,  6.95421402e+01,  5.38857675e+01,  5.48520183e+01,\n",
       "        4.82751407e+01,  4.93077785e+01,  3.65004586e+01,  3.72059820e+01,\n",
       "       -1.07822204e+01,  2.23384560e+01,  3.65522439e+01,  1.25492644e+02,\n",
       "        4.25157104e+01, -3.38444642e+01,  8.55468009e+01,  9.00617295e+01,\n",
       "        1.33929899e+01,  6.85608942e+01,  1.26871112e+02,  1.65844629e+01,\n",
       "        4.21914718e+01,  9.73773270e+01,  4.93906502e+01,  5.94732176e+01,\n",
       "        1.12820015e+02,  3.03781948e+01,  7.79027386e+01, -2.10628771e+01,\n",
       "        6.42006088e+00,  5.89833749e+01,  7.64860567e+01,  2.10328390e+01,\n",
       "        8.72251531e+01, -4.19548685e+01,  1.22385671e+01,  6.55947028e+01,\n",
       "        3.49226478e+01,  5.91137996e+01,  7.79916003e+01,  6.31501028e+01,\n",
       "       -1.11283397e+01,  2.35811832e+01, -3.08244858e+01,  3.21462105e+01,\n",
       "       -1.42297297e+01, -3.44354950e+00,  2.08635716e+01,  4.07394729e+01,\n",
       "        9.46727766e+01, -1.57866054e+01,  7.85617153e+01,  8.77367931e+01,\n",
       "        2.86559956e+01,  4.22207774e+01,  4.97565304e+01,  6.00803978e+01,\n",
       "        9.49991215e+01,  8.09402293e+01,  9.19478805e+01,  2.09733482e+01,\n",
       "        3.99683507e+01,  1.13750790e+02,  7.36886442e+01,  4.71224838e+01,\n",
       "        8.46272181e+01,  5.01061807e+01,  5.16631810e+01,  1.22164915e+02,\n",
       "        5.81590618e+01,  7.21651768e+01,  9.36300307e+01,  4.47633727e+01,\n",
       "        7.82345623e+01,  3.60729255e+01, -1.41389759e+01,  8.24399071e+01,\n",
       "        3.96223881e+01,  8.12242481e+01,  6.24610110e+01,  1.16066384e+02,\n",
       "        6.26813233e+01, -1.39413911e+01,  5.79930180e+01,  6.66421361e+01,\n",
       "        1.14035430e+02,  6.99205973e+01, -2.72010545e+01,  2.30624273e+01,\n",
       "        1.26830616e+01,  5.68119664e+01,  7.67193466e+00,  5.64481935e+01,\n",
       "        1.48758182e+01,  7.23250671e+01,  9.05706475e+00, -4.83821252e+01,\n",
       "        8.00856906e+01,  4.91868021e+01,  1.05762300e+02,  5.64737479e+01,\n",
       "        9.37491212e+01,  7.39572403e+01,  1.29514902e+02,  3.10377028e+01,\n",
       "        5.84195622e+01,  1.36036914e+01,  5.29252664e+01,  4.18861690e+01,\n",
       "        5.05741294e+01,  1.96842287e+01,  4.05566099e+01,  7.56744435e+01,\n",
       "        1.05089875e+02,  3.86068852e+01, -2.53272956e+01,  9.86297411e+01,\n",
       "        1.08301134e+02,  5.51214778e+00,  3.26760191e+01,  1.43961279e+02,\n",
       "        2.21134055e+01,  6.86014288e+01, -1.37261468e+01,  7.36786363e+01,\n",
       "        3.02966279e+01,  5.05762093e+01,  1.15327630e+02, -1.99990022e+01,\n",
       "        9.38353634e+01,  4.72295605e+01, -1.29398136e+01,  1.54268137e+01,\n",
       "        3.04848032e+01,  3.00472775e+01,  2.68389883e+01,  8.12692336e+01,\n",
       "        1.98003568e+01,  1.57312148e+01, -2.42763572e+01,  1.10316823e+02,\n",
       "       -1.81337689e+01,  1.66226387e+01,  8.57545405e+01,  1.64132925e+02,\n",
       "        3.79095698e+01,  4.24027478e+01, -8.24584154e+00,  2.04248816e+01,\n",
       "        1.16414225e+02,  7.24970431e+01,  6.67057590e+01, -2.69254014e+01,\n",
       "        1.76927432e+01,  2.08641657e+01,  7.38263075e+01,  6.82790075e+01,\n",
       "        2.46042777e+01,  9.00404377e+01,  5.37722693e+01,  3.26749855e+01,\n",
       "        2.06904492e+01,  4.87968744e+01,  5.66696487e+00, -1.31615276e+01,\n",
       "        5.35218410e+01,  2.06820637e+01,  7.48606332e+01,  3.76487271e+01,\n",
       "        8.16772163e+01, -2.03870554e+00,  4.09189098e+01,  5.75090097e+01,\n",
       "        4.52497929e+01,  9.44035973e+01,  5.14495723e+01,  6.33579420e+01,\n",
       "        5.52069948e+01,  7.33254115e+00,  9.58421811e+01,  1.68395688e+01,\n",
       "        6.25213483e+01,  6.96536363e+01, -1.95794474e+01, -2.19466379e+01,\n",
       "        9.25066617e+01,  1.33950085e+01,  6.57318103e+01,  4.08858422e+01,\n",
       "        6.36253886e+01,  2.14103976e+00,  5.60466783e+01,  3.87666853e+01,\n",
       "        8.23079060e+01,  8.67361347e+01, -2.38802694e+01,  3.60265118e+01,\n",
       "        1.03190460e+02,  1.55368104e+01, -3.40421847e+00,  1.95770291e+01,\n",
       "        3.22681541e+01,  3.87529025e+01,  3.55528168e+01,  4.33149390e+01,\n",
       "        1.13873702e+02,  9.54034871e+01,  9.45735537e+01,  1.18372938e+02,\n",
       "        4.78215649e+01,  7.53736454e+01,  1.33430636e+02,  9.62066274e+01,\n",
       "        5.44589628e+01, -7.43795477e+00,  1.11818621e+01,  3.93943227e+01,\n",
       "        9.10865369e+01,  1.17632772e+02,  1.04819686e+02,  5.84156474e+01,\n",
       "        8.44620061e+01,  4.25446180e+01, -2.88209030e+00,  6.01388664e-01,\n",
       "        8.06983723e+01,  1.14650819e+02,  5.12882087e+01,  8.12178448e+01,\n",
       "        7.69922882e+01, -1.80051913e+01,  9.48317384e+01, -1.41619297e+01,\n",
       "       -5.98113157e+00,  7.40761374e+00,  2.68926054e+01,  9.99280115e+01,\n",
       "        8.37943397e+01, -3.88362603e+01,  8.27463858e+00,  7.76252083e+01,\n",
       "        1.19624115e+02,  7.43661705e+01,  4.43619703e+01, -1.48437912e+01,\n",
       "        4.15138359e+01,  1.38672138e+02,  3.38312313e+01,  4.36631590e+01,\n",
       "        4.04131270e+01,  7.87341316e+01,  6.80336042e+01,  6.46089793e+00,\n",
       "        6.40412195e+01,  7.20028058e+01,  6.49623243e+01,  1.05508864e+02,\n",
       "        2.01362680e+01,  1.13560870e+02,  1.46119619e+01,  6.65558261e+01,\n",
       "        4.80938524e+01,  4.05347707e+01,  6.63153856e+01,  4.42652697e+01,\n",
       "       -4.83612056e+01,  9.36748743e+01,  7.87125190e+01,  5.16509967e+01,\n",
       "        5.03334547e+01,  7.34667262e+01,  4.52157023e+01,  6.51687138e+01,\n",
       "        7.82084503e+01,  3.56463264e+01,  7.89008280e+01, -2.57433991e+01,\n",
       "        7.12967463e+01,  5.12555183e+01, -5.78611858e+01,  4.94360994e+01,\n",
       "        7.81647733e+01,  4.24972314e+01,  4.87528556e+01,  5.58139887e+01,\n",
       "       -1.09174151e+00, -7.94102268e+00,  3.93329404e+01,  3.02580870e+01,\n",
       "       -2.88456198e+01, -4.18640903e+01,  5.97659881e+00,  2.84648935e+01,\n",
       "        8.10468272e+01,  7.07259817e+00,  4.08155821e+01,  5.07790629e+01,\n",
       "        9.47828010e+01,  1.29622991e+02,  5.43513770e+01, -1.03063285e+01,\n",
       "        1.05015653e+02,  5.85466816e+01, -1.41458854e+01,  5.62429711e+01,\n",
       "        7.80109952e+01,  6.47802540e+01,  4.09076722e+01,  5.99104955e+01,\n",
       "        3.37207469e+01,  6.29845585e+01,  1.79306420e+01,  1.20254933e+01,\n",
       "       -4.03215694e+01,  1.93962708e+01,  3.67173188e+01,  7.52719382e+01,\n",
       "        1.43724446e+01,  2.27139966e+01,  4.42274200e+01,  1.34761641e+02,\n",
       "       -4.50622721e+01,  5.41669317e+01,  5.05663998e+01,  1.86228134e+01,\n",
       "       -8.50640998e+00,  6.05625148e+01,  2.94861523e+01,  2.13717458e+01,\n",
       "        1.00044370e+02,  9.13876446e+01,  8.97344198e+01,  6.37078997e+01,\n",
       "        9.90751228e+01,  9.77458816e+01,  8.35730789e+00,  7.59576119e-01,\n",
       "        1.10112538e+02,  7.81261717e+01,  1.57088800e+02,  4.74098270e+01,\n",
       "        3.53647084e+01,  2.40481537e+01,  1.81558560e+01,  6.42492213e+01,\n",
       "        4.92154123e+01,  7.94967308e+01,  7.99283217e+00,  7.76878534e+01,\n",
       "        4.60382419e+01,  1.51093554e+02,  6.14387724e+01,  3.47077494e+01,\n",
       "        1.70293073e+01,  7.73332156e+01,  2.92071550e+01,  4.69266342e+01,\n",
       "        1.23665568e+02, -2.16510973e+01,  1.81776067e+02,  7.71183017e+01,\n",
       "        1.20373183e+02,  6.60517511e+01,  8.45638033e+01,  3.09390979e+01,\n",
       "        1.42354438e+02, -1.16623684e+01,  9.19442977e+01,  1.04925526e+02,\n",
       "        7.45412733e+01,  4.29299825e+01,  1.51444290e+02,  8.67250558e+01,\n",
       "       -2.21701013e+01,  7.20510292e+01,  7.16257250e+00,  3.74371191e+01,\n",
       "        9.84007186e+01,  9.34790276e+01,  1.07707731e+01,  4.02712153e+01,\n",
       "        2.46124086e+01,  5.24361298e+01,  4.99584075e+00,  4.20302053e+01,\n",
       "        8.77643885e+01, -7.16696993e+00,  9.34047002e+01,  2.38755219e+01,\n",
       "       -3.72574008e+00, -2.69818864e+01,  6.92910763e+01,  8.47206621e+01,\n",
       "        2.46550932e+01,  8.70956833e+01,  4.90428400e+01,  9.04405679e+01,\n",
       "        6.18737361e+00,  7.07720886e+01,  5.48951147e+01,  2.31263098e+01,\n",
       "        1.10886956e+02,  4.84479289e+01,  1.25897070e+02,  7.98715639e+00,\n",
       "        5.45259889e+01,  3.29737158e+01,  8.87872683e+01,  2.00154194e+01,\n",
       "        4.73564737e+01,  5.45168167e+01,  3.14628044e+01, -1.36295947e+01,\n",
       "        2.59263057e+01, -2.47432568e+00,  1.88480502e+01,  8.03098710e+01,\n",
       "        3.83102941e+01,  1.29199186e+02,  1.00458629e+02,  5.38771711e+00,\n",
       "        5.96930716e+01,  8.64841028e+01,  1.54923776e+01,  3.10017651e+01,\n",
       "        8.95738643e+01,  1.20191426e+02,  1.08894646e+02,  4.76732019e+01,\n",
       "        7.24144168e+01,  8.54076851e+01,  6.17699506e+00,  5.92143887e+01,\n",
       "        6.14975521e+00,  8.71184617e+01,  2.81535044e+01,  3.54079146e+01,\n",
       "        6.49920827e+01,  7.77505949e+01,  1.11219492e+02,  1.17555323e+02,\n",
       "        3.85857281e+01,  3.28941987e+01,  1.17443295e+01, -3.28121750e+00,\n",
       "        1.06446201e+02,  7.31998281e+01,  2.31123033e+01,  6.75408641e+01,\n",
       "        2.77573793e+01,  4.42817388e+01,  9.02015693e+01,  4.40480816e+01,\n",
       "        1.00565641e+02,  5.98341612e+01,  2.75867054e+01,  4.53794479e+01,\n",
       "        4.00371366e+01,  8.77344024e+01, -2.37143202e+01,  2.03297090e+01,\n",
       "        6.52059619e+01,  5.28953993e+01, -8.52573149e+00,  3.93024124e+01,\n",
       "        2.77984970e+01,  2.51578560e+01,  8.32051470e+01,  6.84806815e+01,\n",
       "        1.54180241e+01,  5.67919763e+01,  1.36214428e+02,  6.96812091e+01,\n",
       "        9.66297017e+01,  9.76606475e+01,  5.25095091e+01,  6.38268062e+01,\n",
       "        1.08893964e+02,  1.33442115e+00,  4.06336700e+01,  1.19235876e+02,\n",
       "        3.31274938e+01,  8.08939688e+01, -1.02451139e+00, -1.93384915e+01,\n",
       "        1.11205443e+01,  7.17888373e+01,  7.31668890e+01,  7.53412017e+01,\n",
       "        4.97368712e+01,  7.55460826e+01,  3.87000745e+01,  1.50167946e+01,\n",
       "        1.28357084e+01,  1.17432575e+01,  4.46161367e+01,  9.07453438e+01,\n",
       "        2.63249019e+01,  4.57201235e+01,  6.62361985e+01,  6.19266302e+01,\n",
       "        5.93204429e+01,  4.87707417e+01,  5.07181987e+01,  6.10184010e+01,\n",
       "       -2.35958271e+01,  8.54262340e+01,  2.33853428e+01,  2.81903501e+01,\n",
       "        2.45446180e+01,  1.15751436e+02,  5.03273619e+01,  5.91955788e+01,\n",
       "       -2.30614535e+01,  2.03459196e+01,  4.08538325e+01,  7.38365517e+01,\n",
       "        3.70428153e+01,  7.69752516e+01,  6.46824935e+01,  6.23579165e+01,\n",
       "        5.51492286e+01,  4.52073720e+01,  8.05508918e+01,  7.20276527e+01,\n",
       "        6.87389073e+01,  7.16114278e+01, -1.08940335e+01,  2.47973448e+01,\n",
       "        6.50694267e+01,  6.86184365e+01,  4.44028771e+01,  3.04403133e+01,\n",
       "        2.40186501e+01,  7.89411266e+01,  9.06054465e+01,  2.02691597e+01,\n",
       "        8.95374540e+01,  1.39290642e+02,  5.10134813e+01,  5.91609300e+01,\n",
       "       -3.21199123e+01,  3.22329195e+01,  1.41278742e+01,  9.06057831e+01,\n",
       "        4.32950722e+01, -2.62103955e+01,  1.22003941e+02,  5.22053939e+01,\n",
       "        1.94337022e+01,  3.43562846e+01,  6.35976569e+00,  6.11011465e+01,\n",
       "        4.81956239e+01,  9.61010902e+01,  1.77869475e+01,  8.67266601e+01,\n",
       "        4.16192639e+01,  7.70842107e+01,  1.56481381e+01,  1.37809761e+02,\n",
       "        7.33901247e+01,  2.64558124e+01,  4.67458722e+01,  4.86217421e+01,\n",
       "        6.62365080e+01, -2.06035050e+01,  6.20621427e+01,  7.49251484e+01,\n",
       "       -4.78279170e+01,  1.39763468e+02,  4.59489665e+01,  7.14928281e+01,\n",
       "        8.68551167e+01,  1.09132657e+02,  6.56305255e+01,  3.54136886e+01,\n",
       "        3.07630929e+00,  5.97012766e+01,  9.59946630e+01,  5.75154541e+01,\n",
       "        7.70113369e+01,  4.60996052e+01,  5.91362669e+01,  9.89135674e+01,\n",
       "        8.83430064e+01,  6.55978375e+01,  8.69841912e+01,  1.16597979e+02,\n",
       "        8.55722001e+01,  7.91927019e+01,  3.24807060e+01,  4.53495624e+01,\n",
       "        4.99784518e+01, -2.83538258e+00,  7.38939497e+01,  9.34593059e+01,\n",
       "        5.09243294e+01,  5.01766486e+01,  6.44474428e+01,  1.00825078e+02,\n",
       "        4.97856326e+01,  1.01496561e+01,  4.34805475e+00, -2.54605469e+01,\n",
       "        8.09763794e+01,  7.48520699e+01,  2.90210867e+01,  7.83374544e+00,\n",
       "        9.92726402e+01,  3.45023228e+01, -3.13775441e+01,  1.48494231e+01,\n",
       "       -9.21287104e+00, -1.39239997e+01,  8.25738576e+01,  7.45619145e+01,\n",
       "        4.84521925e+01, -4.56856398e+00,  1.79200377e+02,  4.38648616e+01,\n",
       "       -4.43924895e+00,  6.83356062e+00, -2.33357545e+01,  5.91702194e+01,\n",
       "        5.45409507e+01,  8.26419746e+01,  4.94694170e+01,  1.05166982e+02,\n",
       "        7.07920994e+01,  5.35058745e+01, -1.44187754e+01,  4.16156237e+01,\n",
       "        7.55204250e+01,  5.98127824e+01,  5.61214724e+01,  3.33182070e+01,\n",
       "        3.51640149e+01,  5.54984211e+01,  7.65360805e+01,  4.45321765e+01,\n",
       "        4.22286093e+00,  4.21307352e+01,  1.10973114e+02,  7.77604063e+01,\n",
       "        1.22964591e+02,  7.65203815e+01,  5.59218048e+01,  1.06740021e+01,\n",
       "        5.00257946e+01,  9.07446327e+00,  2.97416156e+01,  5.11559418e+01,\n",
       "        1.69632147e+01,  8.03366159e+01,  7.27782450e+01,  2.49048570e+01,\n",
       "        7.23029660e+01,  3.12440010e+00,  5.79124105e+01,  5.51533684e+01,\n",
       "        2.76093447e+01,  1.60248673e+02,  4.56902460e+01,  3.75185394e+01,\n",
       "        5.70817078e+01,  5.42187278e+01,  3.75909667e+01,  7.39278731e+01,\n",
       "       -3.57747881e+01,  8.57663474e+01,  1.43858963e+02, -9.42930661e+00,\n",
       "        4.80192609e+01,  4.02706187e+01,  6.10429690e+01,  5.99130664e+01,\n",
       "        4.98976125e+01,  1.11925808e+02,  3.01360115e+01,  6.51347268e+01,\n",
       "        1.07149543e+02,  9.41375762e+01,  1.48068867e+02,  6.42419381e+01,\n",
       "        3.47979821e+00,  4.12068035e+01,  6.79808904e+01,  4.44135913e+01,\n",
       "        5.21734391e+01,  1.48722787e-02,  7.78047953e+01,  3.46884065e+01,\n",
       "        7.38632910e+01, -9.99082210e+00,  4.10887714e+01,  5.77659609e+01,\n",
       "        5.56337031e+01,  8.33538410e+01,  9.37203922e+01, -2.49925635e+01,\n",
       "        1.17190323e+02, -9.61352140e+00,  8.11033572e+01,  3.93443861e+01,\n",
       "        1.09002319e+02,  8.15417683e+01,  8.41903698e+01,  6.74535324e+00,\n",
       "        6.82360157e+01,  2.89514882e+01,  1.95648502e+01,  2.03108866e+01,\n",
       "       -1.97925931e+01,  6.12278154e+01,  5.22167426e+01,  7.47503833e+01,\n",
       "       -1.28700484e+01, -6.71191616e+01,  3.23799855e+01,  4.10784544e+01,\n",
       "       -3.00132901e+01,  3.59291901e+01, -5.49163692e+00, -1.31319108e+01,\n",
       "        4.43536159e+01,  3.53954461e+01,  1.01135287e+02,  9.47418358e+01,\n",
       "        9.99422649e+01,  2.37763051e+01,  5.48205768e+01,  4.90603039e+01,\n",
       "        6.15701299e+01,  2.89351338e+01,  9.87572706e+01,  1.04229795e+02,\n",
       "        4.57727238e+01,  6.86305814e+01,  5.73284907e+01,  8.16876397e+00,\n",
       "        6.35524476e+01,  8.36272824e+01,  6.33517017e+01,  8.25680871e+01,\n",
       "        1.45944989e+02,  5.39101995e+01,  1.72858640e+01,  2.48397847e+01,\n",
       "       -1.28632311e+01,  7.24262945e+01,  8.16461604e+01,  3.30944395e+01,\n",
       "        3.97308527e+01,  3.11458939e+01,  4.82430552e+01,  5.63983512e+01,\n",
       "        1.24333684e+02,  1.13828664e+01, -9.45214587e+00,  4.07877068e+01,\n",
       "        1.12647550e+02,  4.21559150e+01,  3.72741725e+01,  5.37025280e+01,\n",
       "        3.76627974e+01,  6.31328612e+01,  7.90044307e+01,  2.38908514e+01,\n",
       "        3.68416559e+01,  6.63673935e+01,  3.83275061e+01, -3.41149251e+01,\n",
       "        8.55834049e+01,  7.18317531e+01,  1.05094469e+02,  8.84972518e+01,\n",
       "        4.85592203e+01,  9.06417276e+01,  4.64482558e+01,  6.88770228e+01,\n",
       "        4.87242672e+01,  8.22789553e+01,  3.22055348e+01,  3.78829739e+01,\n",
       "        4.81586545e+01,  9.49025815e+01,  1.04374797e+02,  6.28680961e+01,\n",
       "        8.25297110e+01,  9.34773614e+01,  2.24319546e+01,  3.87135323e+01,\n",
       "        9.24675649e+01,  4.80942576e+01,  8.14415766e+01,  6.60394503e+00,\n",
       "        1.24076096e+02,  2.78551799e+01, -1.30348382e+01,  4.14619047e+00,\n",
       "        6.58604112e+01,  3.25248572e+01,  6.54325297e+01,  3.37621798e+01])"
      ]
     },
     "execution_count": 18,
     "metadata": {},
     "output_type": "execute_result"
    }
   ],
   "source": [
    "# create an array of random numbers w normal distro\n",
    "\n",
    "x = np.random.normal(50, 40, size = 1000)\n",
    "x"
   ]
  },
  {
   "cell_type": "code",
   "execution_count": 21,
   "id": "b1cf4a69",
   "metadata": {},
   "outputs": [
    {
     "data": {
      "text/plain": [
       "0      0.852674\n",
       "1     -0.566970\n",
       "2      2.981725\n",
       "3     -1.428913\n",
       "4      0.946222\n",
       "         ...   \n",
       "995   -1.122871\n",
       "996    0.386460\n",
       "997   -0.428820\n",
       "998    0.375995\n",
       "999   -0.398559\n",
       "Length: 1000, dtype: float64"
      ]
     },
     "execution_count": 21,
     "metadata": {},
     "output_type": "execute_result"
    }
   ],
   "source": [
    "# claculate z-score for each item in teh array\n",
    "\n",
    "zscores = pd.Series((x - x.mean())) / x.std()\n",
    "zscores"
   ]
  },
  {
   "cell_type": "code",
   "execution_count": 23,
   "id": "9b1cb028",
   "metadata": {},
   "outputs": [
    {
     "data": {
      "text/plain": [
       "array([171.97678751, -33.20090464, -42.40166241, 146.98748265,\n",
       "       -60.53406597, -58.09850518, 148.47201338, 148.67023052,\n",
       "       132.10442313, 157.54897955, -33.84446417, -41.95486845,\n",
       "       -48.38212524, 143.96127897, 164.13292477, 133.43063564,\n",
       "       -38.83626027, 138.67213779, -48.36120559, -57.86118577,\n",
       "       -41.86409027, -40.32156939, 134.76164073, -45.06227212,\n",
       "       157.08880037, 151.09355414, 181.77606712, 142.35443801,\n",
       "       151.4442902 , 136.2144282 , 139.2906418 , -32.11991233,\n",
       "       137.80976118, -47.82791703, 139.76346798, 179.20037686,\n",
       "       160.24867317, -35.7747881 , 143.85896321, 148.0688672 ,\n",
       "       -67.11916156, 145.94498923, -34.11492507])"
      ]
     },
     "execution_count": 23,
     "metadata": {},
     "output_type": "execute_result"
    }
   ],
   "source": [
    "# find all observations outside of 2 std deviations (greater than inside the 95th percentile)\n",
    "\n",
    "x[zscores.abs() >= 2]"
   ]
  },
  {
   "cell_type": "code",
   "execution_count": 24,
   "id": "2541a471",
   "metadata": {},
   "outputs": [
    {
     "data": {
      "text/plain": [
       "43"
      ]
     },
     "execution_count": 24,
     "metadata": {},
     "output_type": "execute_result"
    }
   ],
   "source": [
    "# howm many observations is this\n",
    "\n",
    "len(x[zscores.abs() >= 2])\n",
    "\n",
    "# 43 numbers total that fall outside of the 95th percentile"
   ]
  },
  {
   "cell_type": "code",
   "execution_count": 25,
   "id": "1b013b56",
   "metadata": {},
   "outputs": [
    {
     "data": {
      "text/plain": [
       "array([181.77606712, 179.20037686])"
      ]
     },
     "execution_count": 25,
     "metadata": {},
     "output_type": "execute_result"
    }
   ],
   "source": [
    "# find all obs w 3 std dev or more\n",
    "\n",
    "x[zscores.abs() >= 3]"
   ]
  },
  {
   "cell_type": "markdown",
   "id": "44033d26",
   "metadata": {},
   "source": [
    "### Swiss dataset"
   ]
  },
  {
   "cell_type": "code",
   "execution_count": 26,
   "id": "dde7bb66",
   "metadata": {},
   "outputs": [],
   "source": [
    "# import\n",
    "\n",
    "suisse = data('swiss')"
   ]
  },
  {
   "cell_type": "code",
   "execution_count": 27,
   "id": "e548154f",
   "metadata": {},
   "outputs": [
    {
     "name": "stdout",
     "output_type": "stream",
     "text": [
      "<class 'pandas.core.frame.DataFrame'>\n",
      "Index: 47 entries, Courtelary to Rive Gauche\n",
      "Data columns (total 6 columns):\n",
      " #   Column            Non-Null Count  Dtype  \n",
      "---  ------            --------------  -----  \n",
      " 0   Fertility         47 non-null     float64\n",
      " 1   Agriculture       47 non-null     float64\n",
      " 2   Examination       47 non-null     int64  \n",
      " 3   Education         47 non-null     int64  \n",
      " 4   Catholic          47 non-null     float64\n",
      " 5   Infant.Mortality  47 non-null     float64\n",
      "dtypes: float64(4), int64(2)\n",
      "memory usage: 2.6+ KB\n"
     ]
    }
   ],
   "source": [
    "suisse.info()"
   ]
  },
  {
   "cell_type": "code",
   "execution_count": 32,
   "id": "1c61de49",
   "metadata": {
    "scrolled": false
   },
   "outputs": [
    {
     "data": {
      "image/png": "[encoded data removed]",
      "text/plain": [
       "<Figure size 640x480 with 1 Axes>"
      ]
     },
     "metadata": {},
     "output_type": "display_data"
    },
    {
     "data": {
      "image/png": "[encoded data removed]",
      "text/plain": [
       "<Figure size 640x480 with 1 Axes>"
      ]
     },
     "metadata": {},
     "output_type": "display_data"
    },
    {
     "data": {
      "image/png": "[encoded data removed]",
      "text/plain": [
       "<Figure size 640x480 with 1 Axes>"
      ]
     },
     "metadata": {},
     "output_type": "display_data"
    },
    {
     "data": {
      "image/png": "[encoded data removed]",
      "text/plain": [
       "<Figure size 640x480 with 1 Axes>"
      ]
     },
     "metadata": {},
     "output_type": "display_data"
    },
    {
     "data": {
      "image/png": "[encoded data removed]",
      "text/plain": [
       "<Figure size 640x480 with 1 Axes>"
      ]
     },
     "metadata": {},
     "output_type": "display_data"
    },
    {
     "data": {
      "image/png": "[encoded data removed]",
      "text/plain": [
       "<Figure size 640x480 with 1 Axes>"
      ]
     },
     "metadata": {},
     "output_type": "display_data"
    },
    {
     "data": {
      "image/png": "[encoded data removed]",
      "text/plain": [
       "<Figure size 640x480 with 1 Axes>"
      ]
     },
     "metadata": {},
     "output_type": "display_data"
    },
    {
     "data": {
      "image/png": "[encoded data removed]",
      "text/plain": [
       "<Figure size 640x480 with 1 Axes>"
      ]
     },
     "metadata": {},
     "output_type": "display_data"
    },
    {
     "data": {
      "image/png": "[encoded data removed]",
      "text/plain": [
       "<Figure size 640x480 with 1 Axes>"
      ]
     },
     "metadata": {},
     "output_type": "display_data"
    },
    {
     "data": {
      "image/png": "[encoded data removed]",
      "text/plain": [
       "<Figure size 640x480 with 1 Axes>"
      ]
     },
     "metadata": {},
     "output_type": "display_data"
    },
    {
     "data": {
      "image/png": "[encoded data removed]",
      "text/plain": [
       "<Figure size 640x480 with 1 Axes>"
      ]
     },
     "metadata": {},
     "output_type": "display_data"
    },
    {
     "data": {
      "image/png": "[encoded data removed]",
      "text/plain": [
       "<Figure size 640x480 with 1 Axes>"
      ]
     },
     "metadata": {},
     "output_type": "display_data"
    }
   ],
   "source": [
    "# \n",
    "\n",
    "cols = suisse.columns.to_list()\n",
    "\n",
    "for col in cols :\n",
    "    plt.hist(suisse[col])\n",
    "    plt.title(col.replace('.','_').capitalize())\n",
    "    plt.show()\n",
    "    sns.boxplot(data = suisse, x = col)\n",
    "    plt.show()"
   ]
  },
  {
   "cell_type": "code",
   "execution_count": 34,
   "id": "b81337a2",
   "metadata": {},
   "outputs": [
    {
     "data": {
      "text/html": [
       "<div>\n",
       "<style scoped>\n",
       "    .dataframe tbody tr th:only-of-type {\n",
       "        vertical-align: middle;\n",
       "    }\n",
       "\n",
       "    .dataframe tbody tr th {\n",
       "        vertical-align: top;\n",
       "    }\n",
       "\n",
       "    .dataframe thead th {\n",
       "        text-align: right;\n",
       "    }\n",
       "</style>\n",
       "<table border=\"1\" class=\"dataframe\">\n",
       "  <thead>\n",
       "    <tr style=\"text-align: right;\">\n",
       "      <th></th>\n",
       "      <th>Fertility</th>\n",
       "      <th>Agriculture</th>\n",
       "      <th>Examination</th>\n",
       "      <th>Education</th>\n",
       "      <th>Catholic</th>\n",
       "      <th>Infant.Mortality</th>\n",
       "    </tr>\n",
       "  </thead>\n",
       "  <tbody>\n",
       "    <tr>\n",
       "      <th>Courtelary</th>\n",
       "      <td>80.2</td>\n",
       "      <td>17.0</td>\n",
       "      <td>15</td>\n",
       "      <td>12</td>\n",
       "      <td>9.96</td>\n",
       "      <td>22.2</td>\n",
       "    </tr>\n",
       "    <tr>\n",
       "      <th>Delemont</th>\n",
       "      <td>83.1</td>\n",
       "      <td>45.1</td>\n",
       "      <td>6</td>\n",
       "      <td>9</td>\n",
       "      <td>84.84</td>\n",
       "      <td>22.2</td>\n",
       "    </tr>\n",
       "    <tr>\n",
       "      <th>Franches-Mnt</th>\n",
       "      <td>92.5</td>\n",
       "      <td>39.7</td>\n",
       "      <td>5</td>\n",
       "      <td>5</td>\n",
       "      <td>93.40</td>\n",
       "      <td>20.2</td>\n",
       "    </tr>\n",
       "  </tbody>\n",
       "</table>\n",
       "</div>"
      ],
      "text/plain": [
       "              Fertility  Agriculture  Examination  Education  Catholic  \\\n",
       "Courtelary         80.2         17.0           15         12      9.96   \n",
       "Delemont           83.1         45.1            6          9     84.84   \n",
       "Franches-Mnt       92.5         39.7            5          5     93.40   \n",
       "\n",
       "              Infant.Mortality  \n",
       "Courtelary                22.2  \n",
       "Delemont                  22.2  \n",
       "Franches-Mnt              20.2  "
      ]
     },
     "execution_count": 34,
     "metadata": {},
     "output_type": "execute_result"
    }
   ],
   "source": [
    "suisse.head(3)"
   ]
  },
  {
   "cell_type": "code",
   "execution_count": null,
   "id": "15861d3f",
   "metadata": {},
   "outputs": [],
   "source": []
  },
  {
   "cell_type": "code",
   "execution_count": null,
   "id": "8233b05b",
   "metadata": {},
   "outputs": [],
   "source": []
  },
  {
   "cell_type": "code",
   "execution_count": null,
   "id": "f68d72e8",
   "metadata": {},
   "outputs": [],
   "source": []
  },
  {
   "cell_type": "code",
   "execution_count": null,
   "id": "7bbf5ce9",
   "metadata": {},
   "outputs": [],
   "source": []
  },
  {
   "cell_type": "code",
   "execution_count": null,
   "id": "b13826ab",
   "metadata": {},
   "outputs": [],
   "source": []
  },
  {
   "cell_type": "code",
   "execution_count": null,
   "id": "f3b0d8f7",
   "metadata": {},
   "outputs": [],
   "source": []
  },
  {
   "cell_type": "code",
   "execution_count": null,
   "id": "37942af0",
   "metadata": {},
   "outputs": [],
   "source": []
  },
  {
   "cell_type": "code",
   "execution_count": null,
   "id": "a99338fe",
   "metadata": {},
   "outputs": [],
   "source": []
  }
 ],
 "metadata": {
  "kernelspec": {
   "display_name": "Python 3 (ipykernel)",
   "language": "python",
   "name": "python3"
  },
  "language_info": {
   "codemirror_mode": {
    "name": "ipython",
    "version": 3
   },
   "file_extension": ".py",
   "mimetype": "text/x-python",
   "name": "python",
   "nbconvert_exporter": "python",
   "pygments_lexer": "ipython3",
   "version": "3.9.13"
  }
 },
 "nbformat": 4,
 "nbformat_minor": 5
}
